{
  "cells": [
    {
      "cell_type": "markdown",
      "metadata": {
        "id": "view-in-github",
        "colab_type": "text"
      },
      "source": [
        "<a href=\"https://colab.research.google.com/github/mdsaifin/Load_forecast/blob/main/load_forecast.ipynb\" target=\"_parent\"><img src=\"https://colab.research.google.com/assets/colab-badge.svg\" alt=\"Open In Colab\"/></a>"
      ]
    },
    {
      "cell_type": "code",
      "source": [
        "#NIT Patna Energy Load Prediction\n",
        "#By SARIMA Model\n",
        "#Written by MD SAIF\n",
        "#date of starting : 2 Feb 2023\n",
        "#date of completion : 6 Feb 2023\n",
        "#Place : NIT Patna"
      ],
      "metadata": {
        "id": "6DM3B3O4TDbv"
      },
      "execution_count": 114,
      "outputs": []
    },
    {
      "cell_type": "markdown",
      "source": [
        "\n",
        "# Loading Libraries"
      ],
      "metadata": {
        "id": "Uj-w4xDS5BLG"
      }
    },
    {
      "cell_type": "code",
      "source": [
        "import pandas as pd\n",
        "import numpy as np\n",
        "from statsmodels.tsa.statespace.sarimax import SARIMAX\n",
        "from sklearn.metrics import mean_squared_error\n",
        "import matplotlib.pyplot as plt"
      ],
      "metadata": {
        "id": "o6xwPX9lsP9d"
      },
      "execution_count": 115,
      "outputs": []
    },
    {
      "cell_type": "markdown",
      "source": [
        "\n",
        "# Loading Training Data"
      ],
      "metadata": {
        "id": "3R3p0XFe5Q-b"
      }
    },
    {
      "cell_type": "code",
      "source": [
        "train = pd.read_csv(\"train.csv\")"
      ],
      "metadata": {
        "id": "Lh-wklrYtLRR"
      },
      "execution_count": 116,
      "outputs": []
    },
    {
      "cell_type": "code",
      "source": [
        "train"
      ],
      "metadata": {
        "colab": {
          "base_uri": "https://localhost:8080/",
          "height": 658
        },
        "id": "IZ6SpBC38OlG",
        "outputId": "d537f3a1-cca8-4aa8-acd1-b53704eadb3c"
      },
      "execution_count": 117,
      "outputs": [
        {
          "output_type": "execute_result",
          "data": {
            "text/plain": [
              "      Log Date / Time  NBCC FEEDER PILLER  LIBRARY BLDG  GIRLS HOSTEL  \\\n",
              "0    01-01-2020 00:00                0.00          0.00          0.00   \n",
              "1    02-01-2020 00:00                0.00          0.00          0.00   \n",
              "2    03-01-2020 00:00                0.00          0.00          0.00   \n",
              "3    04-01-2020 00:00                0.00          0.00          0.00   \n",
              "4    05-01-2020 00:00                0.00          0.00          0.00   \n",
              "..                ...                 ...           ...           ...   \n",
              "300  27-10-2020 00:00               99.30         52.35        160.06   \n",
              "301  28-10-2020 00:00               92.35         43.25        151.52   \n",
              "302  29-10-2020 00:00              100.93         48.66        140.90   \n",
              "303  30-10-2020 00:00               83.90         37.25         80.86   \n",
              "304  31-10-2020 00:00               63.78         37.60         73.38   \n",
              "\n",
              "     MAIN BLDG  CIVIL BLDG  FEEDER PILLER 4  FEEDER PILLER 2  SAC BLDG  \\\n",
              "0         0.00        0.00             0.00          1041.41    181.26   \n",
              "1         0.00        0.00             0.00           985.79    194.38   \n",
              "2         0.00        0.00             0.00           996.35    200.86   \n",
              "3         0.00        0.00             0.00           920.51    171.73   \n",
              "4         0.00        0.00             0.00           887.94    133.01   \n",
              "..         ...         ...              ...              ...       ...   \n",
              "300      37.76       62.64            14.40           908.42     97.71   \n",
              "301      65.15       35.15            14.16           905.73     87.90   \n",
              "302      50.75       46.80            14.16           863.81     84.14   \n",
              "303      28.10       19.09            14.22           836.48     62.46   \n",
              "304      21.44       21.71            14.28           854.46     58.82   \n",
              "\n",
              "     FEEDER PILLER 5  MAIN POWER    TOTAL  \n",
              "0             367.04        7.28  1596.99  \n",
              "1             355.01        8.31  1543.49  \n",
              "2             348.99        8.30  1554.50  \n",
              "3             344.93        6.64  1443.81  \n",
              "4             376.06        5.65  1402.66  \n",
              "..               ...         ...      ...  \n",
              "300           171.46        7.27  1611.37  \n",
              "301           180.54        8.38  1584.13  \n",
              "302           162.21        7.67  1520.03  \n",
              "303           200.38        5.94  1368.68  \n",
              "304           173.31        6.22  1325.00  \n",
              "\n",
              "[305 rows x 12 columns]"
            ],
            "text/html": [
              "\n",
              "  <div id=\"df-122c866e-e9fe-4393-914b-e9879cb94313\">\n",
              "    <div class=\"colab-df-container\">\n",
              "      <div>\n",
              "<style scoped>\n",
              "    .dataframe tbody tr th:only-of-type {\n",
              "        vertical-align: middle;\n",
              "    }\n",
              "\n",
              "    .dataframe tbody tr th {\n",
              "        vertical-align: top;\n",
              "    }\n",
              "\n",
              "    .dataframe thead th {\n",
              "        text-align: right;\n",
              "    }\n",
              "</style>\n",
              "<table border=\"1\" class=\"dataframe\">\n",
              "  <thead>\n",
              "    <tr style=\"text-align: right;\">\n",
              "      <th></th>\n",
              "      <th>Log Date / Time</th>\n",
              "      <th>NBCC FEEDER PILLER</th>\n",
              "      <th>LIBRARY BLDG</th>\n",
              "      <th>GIRLS HOSTEL</th>\n",
              "      <th>MAIN BLDG</th>\n",
              "      <th>CIVIL BLDG</th>\n",
              "      <th>FEEDER PILLER 4</th>\n",
              "      <th>FEEDER PILLER 2</th>\n",
              "      <th>SAC BLDG</th>\n",
              "      <th>FEEDER PILLER 5</th>\n",
              "      <th>MAIN POWER</th>\n",
              "      <th>TOTAL</th>\n",
              "    </tr>\n",
              "  </thead>\n",
              "  <tbody>\n",
              "    <tr>\n",
              "      <th>0</th>\n",
              "      <td>01-01-2020 00:00</td>\n",
              "      <td>0.00</td>\n",
              "      <td>0.00</td>\n",
              "      <td>0.00</td>\n",
              "      <td>0.00</td>\n",
              "      <td>0.00</td>\n",
              "      <td>0.00</td>\n",
              "      <td>1041.41</td>\n",
              "      <td>181.26</td>\n",
              "      <td>367.04</td>\n",
              "      <td>7.28</td>\n",
              "      <td>1596.99</td>\n",
              "    </tr>\n",
              "    <tr>\n",
              "      <th>1</th>\n",
              "      <td>02-01-2020 00:00</td>\n",
              "      <td>0.00</td>\n",
              "      <td>0.00</td>\n",
              "      <td>0.00</td>\n",
              "      <td>0.00</td>\n",
              "      <td>0.00</td>\n",
              "      <td>0.00</td>\n",
              "      <td>985.79</td>\n",
              "      <td>194.38</td>\n",
              "      <td>355.01</td>\n",
              "      <td>8.31</td>\n",
              "      <td>1543.49</td>\n",
              "    </tr>\n",
              "    <tr>\n",
              "      <th>2</th>\n",
              "      <td>03-01-2020 00:00</td>\n",
              "      <td>0.00</td>\n",
              "      <td>0.00</td>\n",
              "      <td>0.00</td>\n",
              "      <td>0.00</td>\n",
              "      <td>0.00</td>\n",
              "      <td>0.00</td>\n",
              "      <td>996.35</td>\n",
              "      <td>200.86</td>\n",
              "      <td>348.99</td>\n",
              "      <td>8.30</td>\n",
              "      <td>1554.50</td>\n",
              "    </tr>\n",
              "    <tr>\n",
              "      <th>3</th>\n",
              "      <td>04-01-2020 00:00</td>\n",
              "      <td>0.00</td>\n",
              "      <td>0.00</td>\n",
              "      <td>0.00</td>\n",
              "      <td>0.00</td>\n",
              "      <td>0.00</td>\n",
              "      <td>0.00</td>\n",
              "      <td>920.51</td>\n",
              "      <td>171.73</td>\n",
              "      <td>344.93</td>\n",
              "      <td>6.64</td>\n",
              "      <td>1443.81</td>\n",
              "    </tr>\n",
              "    <tr>\n",
              "      <th>4</th>\n",
              "      <td>05-01-2020 00:00</td>\n",
              "      <td>0.00</td>\n",
              "      <td>0.00</td>\n",
              "      <td>0.00</td>\n",
              "      <td>0.00</td>\n",
              "      <td>0.00</td>\n",
              "      <td>0.00</td>\n",
              "      <td>887.94</td>\n",
              "      <td>133.01</td>\n",
              "      <td>376.06</td>\n",
              "      <td>5.65</td>\n",
              "      <td>1402.66</td>\n",
              "    </tr>\n",
              "    <tr>\n",
              "      <th>...</th>\n",
              "      <td>...</td>\n",
              "      <td>...</td>\n",
              "      <td>...</td>\n",
              "      <td>...</td>\n",
              "      <td>...</td>\n",
              "      <td>...</td>\n",
              "      <td>...</td>\n",
              "      <td>...</td>\n",
              "      <td>...</td>\n",
              "      <td>...</td>\n",
              "      <td>...</td>\n",
              "      <td>...</td>\n",
              "    </tr>\n",
              "    <tr>\n",
              "      <th>300</th>\n",
              "      <td>27-10-2020 00:00</td>\n",
              "      <td>99.30</td>\n",
              "      <td>52.35</td>\n",
              "      <td>160.06</td>\n",
              "      <td>37.76</td>\n",
              "      <td>62.64</td>\n",
              "      <td>14.40</td>\n",
              "      <td>908.42</td>\n",
              "      <td>97.71</td>\n",
              "      <td>171.46</td>\n",
              "      <td>7.27</td>\n",
              "      <td>1611.37</td>\n",
              "    </tr>\n",
              "    <tr>\n",
              "      <th>301</th>\n",
              "      <td>28-10-2020 00:00</td>\n",
              "      <td>92.35</td>\n",
              "      <td>43.25</td>\n",
              "      <td>151.52</td>\n",
              "      <td>65.15</td>\n",
              "      <td>35.15</td>\n",
              "      <td>14.16</td>\n",
              "      <td>905.73</td>\n",
              "      <td>87.90</td>\n",
              "      <td>180.54</td>\n",
              "      <td>8.38</td>\n",
              "      <td>1584.13</td>\n",
              "    </tr>\n",
              "    <tr>\n",
              "      <th>302</th>\n",
              "      <td>29-10-2020 00:00</td>\n",
              "      <td>100.93</td>\n",
              "      <td>48.66</td>\n",
              "      <td>140.90</td>\n",
              "      <td>50.75</td>\n",
              "      <td>46.80</td>\n",
              "      <td>14.16</td>\n",
              "      <td>863.81</td>\n",
              "      <td>84.14</td>\n",
              "      <td>162.21</td>\n",
              "      <td>7.67</td>\n",
              "      <td>1520.03</td>\n",
              "    </tr>\n",
              "    <tr>\n",
              "      <th>303</th>\n",
              "      <td>30-10-2020 00:00</td>\n",
              "      <td>83.90</td>\n",
              "      <td>37.25</td>\n",
              "      <td>80.86</td>\n",
              "      <td>28.10</td>\n",
              "      <td>19.09</td>\n",
              "      <td>14.22</td>\n",
              "      <td>836.48</td>\n",
              "      <td>62.46</td>\n",
              "      <td>200.38</td>\n",
              "      <td>5.94</td>\n",
              "      <td>1368.68</td>\n",
              "    </tr>\n",
              "    <tr>\n",
              "      <th>304</th>\n",
              "      <td>31-10-2020 00:00</td>\n",
              "      <td>63.78</td>\n",
              "      <td>37.60</td>\n",
              "      <td>73.38</td>\n",
              "      <td>21.44</td>\n",
              "      <td>21.71</td>\n",
              "      <td>14.28</td>\n",
              "      <td>854.46</td>\n",
              "      <td>58.82</td>\n",
              "      <td>173.31</td>\n",
              "      <td>6.22</td>\n",
              "      <td>1325.00</td>\n",
              "    </tr>\n",
              "  </tbody>\n",
              "</table>\n",
              "<p>305 rows × 12 columns</p>\n",
              "</div>\n",
              "      <button class=\"colab-df-convert\" onclick=\"convertToInteractive('df-122c866e-e9fe-4393-914b-e9879cb94313')\"\n",
              "              title=\"Convert this dataframe to an interactive table.\"\n",
              "              style=\"display:none;\">\n",
              "        \n",
              "  <svg xmlns=\"http://www.w3.org/2000/svg\" height=\"24px\"viewBox=\"0 0 24 24\"\n",
              "       width=\"24px\">\n",
              "    <path d=\"M0 0h24v24H0V0z\" fill=\"none\"/>\n",
              "    <path d=\"M18.56 5.44l.94 2.06.94-2.06 2.06-.94-2.06-.94-.94-2.06-.94 2.06-2.06.94zm-11 1L8.5 8.5l.94-2.06 2.06-.94-2.06-.94L8.5 2.5l-.94 2.06-2.06.94zm10 10l.94 2.06.94-2.06 2.06-.94-2.06-.94-.94-2.06-.94 2.06-2.06.94z\"/><path d=\"M17.41 7.96l-1.37-1.37c-.4-.4-.92-.59-1.43-.59-.52 0-1.04.2-1.43.59L10.3 9.45l-7.72 7.72c-.78.78-.78 2.05 0 2.83L4 21.41c.39.39.9.59 1.41.59.51 0 1.02-.2 1.41-.59l7.78-7.78 2.81-2.81c.8-.78.8-2.07 0-2.86zM5.41 20L4 18.59l7.72-7.72 1.47 1.35L5.41 20z\"/>\n",
              "  </svg>\n",
              "      </button>\n",
              "      \n",
              "  <style>\n",
              "    .colab-df-container {\n",
              "      display:flex;\n",
              "      flex-wrap:wrap;\n",
              "      gap: 12px;\n",
              "    }\n",
              "\n",
              "    .colab-df-convert {\n",
              "      background-color: #E8F0FE;\n",
              "      border: none;\n",
              "      border-radius: 50%;\n",
              "      cursor: pointer;\n",
              "      display: none;\n",
              "      fill: #1967D2;\n",
              "      height: 32px;\n",
              "      padding: 0 0 0 0;\n",
              "      width: 32px;\n",
              "    }\n",
              "\n",
              "    .colab-df-convert:hover {\n",
              "      background-color: #E2EBFA;\n",
              "      box-shadow: 0px 1px 2px rgba(60, 64, 67, 0.3), 0px 1px 3px 1px rgba(60, 64, 67, 0.15);\n",
              "      fill: #174EA6;\n",
              "    }\n",
              "\n",
              "    [theme=dark] .colab-df-convert {\n",
              "      background-color: #3B4455;\n",
              "      fill: #D2E3FC;\n",
              "    }\n",
              "\n",
              "    [theme=dark] .colab-df-convert:hover {\n",
              "      background-color: #434B5C;\n",
              "      box-shadow: 0px 1px 3px 1px rgba(0, 0, 0, 0.15);\n",
              "      filter: drop-shadow(0px 1px 2px rgba(0, 0, 0, 0.3));\n",
              "      fill: #FFFFFF;\n",
              "    }\n",
              "  </style>\n",
              "\n",
              "      <script>\n",
              "        const buttonEl =\n",
              "          document.querySelector('#df-122c866e-e9fe-4393-914b-e9879cb94313 button.colab-df-convert');\n",
              "        buttonEl.style.display =\n",
              "          google.colab.kernel.accessAllowed ? 'block' : 'none';\n",
              "\n",
              "        async function convertToInteractive(key) {\n",
              "          const element = document.querySelector('#df-122c866e-e9fe-4393-914b-e9879cb94313');\n",
              "          const dataTable =\n",
              "            await google.colab.kernel.invokeFunction('convertToInteractive',\n",
              "                                                     [key], {});\n",
              "          if (!dataTable) return;\n",
              "\n",
              "          const docLinkHtml = 'Like what you see? Visit the ' +\n",
              "            '<a target=\"_blank\" href=https://colab.research.google.com/notebooks/data_table.ipynb>data table notebook</a>'\n",
              "            + ' to learn more about interactive tables.';\n",
              "          element.innerHTML = '';\n",
              "          dataTable['output_type'] = 'display_data';\n",
              "          await google.colab.output.renderOutput(dataTable, element);\n",
              "          const docLink = document.createElement('div');\n",
              "          docLink.innerHTML = docLinkHtml;\n",
              "          element.appendChild(docLink);\n",
              "        }\n",
              "      </script>\n",
              "    </div>\n",
              "  </div>\n",
              "  "
            ]
          },
          "metadata": {},
          "execution_count": 117
        }
      ]
    },
    {
      "cell_type": "code",
      "source": [
        "train.info()"
      ],
      "metadata": {
        "colab": {
          "base_uri": "https://localhost:8080/"
        },
        "id": "Kyj94DySO-0Q",
        "outputId": "5a55bd81-08eb-4782-d8a1-df4220a8f197"
      },
      "execution_count": 118,
      "outputs": [
        {
          "output_type": "stream",
          "name": "stdout",
          "text": [
            "<class 'pandas.core.frame.DataFrame'>\n",
            "RangeIndex: 305 entries, 0 to 304\n",
            "Data columns (total 12 columns):\n",
            " #   Column              Non-Null Count  Dtype  \n",
            "---  ------              --------------  -----  \n",
            " 0   Log Date / Time     305 non-null    object \n",
            " 1   NBCC FEEDER PILLER  305 non-null    float64\n",
            " 2   LIBRARY BLDG        305 non-null    float64\n",
            " 3   GIRLS HOSTEL        305 non-null    float64\n",
            " 4   MAIN BLDG           305 non-null    float64\n",
            " 5   CIVIL BLDG          305 non-null    float64\n",
            " 6   FEEDER PILLER 4     305 non-null    float64\n",
            " 7   FEEDER PILLER 2     305 non-null    float64\n",
            " 8   SAC BLDG            305 non-null    float64\n",
            " 9   FEEDER PILLER 5     305 non-null    float64\n",
            " 10  MAIN POWER          305 non-null    float64\n",
            " 11  TOTAL               305 non-null    float64\n",
            "dtypes: float64(11), object(1)\n",
            "memory usage: 28.7+ KB\n"
          ]
        }
      ]
    },
    {
      "cell_type": "code",
      "source": [
        "train.plot()"
      ],
      "metadata": {
        "colab": {
          "base_uri": "https://localhost:8080/",
          "height": 282
        },
        "id": "l0N_i40pPn8C",
        "outputId": "60287f42-e52e-4c56-d873-94eda3750d94"
      },
      "execution_count": 119,
      "outputs": [
        {
          "output_type": "execute_result",
          "data": {
            "text/plain": [
              "<matplotlib.axes._subplots.AxesSubplot at 0x7fd989f79880>"
            ]
          },
          "metadata": {},
          "execution_count": 119
        },
        {
          "output_type": "display_data",
          "data": {
            "text/plain": [
              "<Figure size 432x288 with 1 Axes>"
            ],
            "image/png": "[encoded data removed]"
          },
          "metadata": {
            "needs_background": "light"
          }
        }
      ]
    },
    {
      "cell_type": "markdown",
      "source": [
        "\n",
        "# Loading Test data"
      ],
      "metadata": {
        "id": "yDyihgLU5Y-6"
      }
    },
    {
      "cell_type": "code",
      "source": [
        "test = pd.read_csv(\"test.csv\")"
      ],
      "metadata": {
        "id": "beFSXgZntRS1"
      },
      "execution_count": 120,
      "outputs": []
    },
    {
      "cell_type": "code",
      "source": [
        "test"
      ],
      "metadata": {
        "colab": {
          "base_uri": "https://localhost:8080/",
          "height": 1000
        },
        "id": "FPdXazcM8Syt",
        "outputId": "b8f8e9b2-24f7-40dd-9fd2-ba16f42ad7b2"
      },
      "execution_count": 121,
      "outputs": [
        {
          "output_type": "execute_result",
          "data": {
            "text/plain": [
              "     Log Date / Time  NBCC FEEDER PILLER  LIBRARY BLDG  GIRLS HOSTEL  \\\n",
              "0   01-11-2020 00:00               62.24         37.45         79.90   \n",
              "1   02-11-2020 00:00               85.79         43.85         84.16   \n",
              "2   03-11-2020 00:00               35.81         37.00         75.94   \n",
              "3   04-11-2020 00:00               55.42         36.70         78.72   \n",
              "4   05-11-2020 00:00               82.27         36.80         79.04   \n",
              "5   06-11-2020 00:00               60.48         37.30         85.76   \n",
              "6   07-11-2020 00:00               47.14         36.86         59.52   \n",
              "7   08-11-2020 00:00               53.18         36.45         50.94   \n",
              "8   09-11-2020 00:00               74.94         28.40         70.82   \n",
              "9   10-11-2020 00:00               83.42         15.90         60.86   \n",
              "10  11-11-2020 00:00               77.50         21.95         70.88   \n",
              "11  12-11-2020 00:00               72.35         29.60         68.22   \n",
              "12  13-11-2020 00:00               60.74         31.95         67.46   \n",
              "13  14-11-2020 00:00               40.96         32.00         39.10   \n",
              "14  15-11-2020 00:00               40.58         30.30         42.40   \n",
              "15  16-11-2020 00:00               55.04         30.30         49.66   \n",
              "16  17-11-2020 00:00               94.88         27.40         61.60   \n",
              "17  18-11-2020 00:00               77.50         30.40         52.64   \n",
              "18  19-11-2020 00:00               60.48         30.20         56.42   \n",
              "19  20-11-2020 00:00               76.86         30.40         56.16   \n",
              "20  21-11-2020 00:00               79.90         28.80         49.06   \n",
              "21  22-11-2020 00:00               42.08         23.15         46.72   \n",
              "22  23-11-2020 00:00               39.81         24.25         38.88   \n",
              "23  24-11-2020 00:00               45.34         24.25         55.52   \n",
              "24  25-11-2020 00:00               33.89         24.05         47.04   \n",
              "25  26-11-2020 00:00               35.04         25.86         60.70   \n",
              "26  27-11-2020 00:00               32.00         25.55         49.60   \n",
              "27  28-11-2020 00:00               29.60         23.60         44.70   \n",
              "28  29-11-2020 00:00               33.15         23.85         54.02   \n",
              "29  30-11-2020 00:00               35.26         24.50         50.14   \n",
              "\n",
              "    MAIN BLDG  CIVIL BLDG  FEEDER PILLER 4  FEEDER PILLER 2  SAC BLDG  \\\n",
              "0       21.44       14.40            14.22           867.33     56.82   \n",
              "1       41.09       43.33            14.22           915.78     84.05   \n",
              "2        0.00       12.11            14.46           865.73     46.98   \n",
              "3        3.58       22.93            14.34           944.64     85.84   \n",
              "4       12.48       44.16            14.34           914.24     82.83   \n",
              "5       18.30       35.63            14.28           886.08     81.17   \n",
              "6       11.14       21.97            14.40           835.20     50.46   \n",
              "7       10.24       27.12            14.46           874.82     57.79   \n",
              "8       16.58       43.20            14.28           882.37     80.62   \n",
              "9        4.99       22.91            14.28           883.58     96.21   \n",
              "10      12.99       25.33            13.14           901.25     78.29   \n",
              "11      11.65       44.75            11.04           905.02     77.73   \n",
              "12       9.09       35.52            14.10           896.83     84.83   \n",
              "13       0.00       22.08            14.28           850.50     69.34   \n",
              "14       0.00       24.24            14.34           884.67     57.55   \n",
              "15      11.58       27.73            14.16           909.38     77.14   \n",
              "16       5.12       24.00            13.68           893.44     73.76   \n",
              "17       4.93       43.68            14.22           925.70     67.76   \n",
              "18       4.93       30.24            14.28           917.57     61.36   \n",
              "19       0.00       30.00            14.10           939.46     55.47   \n",
              "20       2.69       24.96            14.22           874.62     52.11   \n",
              "21       1.73       36.11            14.22           800.70     54.61   \n",
              "22       8.38       43.20            14.28           918.21     61.84   \n",
              "23       6.34       28.45            14.28           951.04     63.34   \n",
              "24       4.99       33.36            14.10           961.47     88.03   \n",
              "25       4.35       34.91            13.74           969.86     90.34   \n",
              "26       4.93       29.52            12.78           947.65     91.66   \n",
              "27       0.26       32.88            13.74           948.61     65.22   \n",
              "28       0.06       36.96            12.78           912.90     55.74   \n",
              "29       1.28       35.52            13.14           894.27     56.64   \n",
              "\n",
              "    FEEDER PILLER 5  MAIN POWER    TOTAL  \n",
              "0            195.30        5.56  1354.66  \n",
              "1            182.24        6.63  1501.14  \n",
              "2            203.36        5.58  1296.97  \n",
              "3            180.06        7.29  1429.52  \n",
              "4            224.48        6.93  1497.57  \n",
              "5            227.04        6.98  1453.02  \n",
              "6            240.93        5.57  1323.19  \n",
              "7            215.07        5.35  1345.42  \n",
              "8            225.22        7.13  1443.56  \n",
              "9            204.38        7.05  1393.58  \n",
              "10           211.17        7.76  1420.26  \n",
              "11           200.26        8.35  1428.97  \n",
              "12           201.02        7.15  1408.69  \n",
              "13           199.55        5.74  1273.55  \n",
              "14           194.40        5.72  1294.20  \n",
              "15           195.81        7.09  1377.89  \n",
              "16           207.90        6.88  1408.66  \n",
              "17           204.19        6.47  1427.49  \n",
              "18           200.80        6.13  1382.41  \n",
              "19           199.49        5.56  1407.50  \n",
              "20           209.82        5.37  1341.55  \n",
              "21           238.59        5.40  1263.31  \n",
              "22           304.99        7.02  1460.86  \n",
              "23           323.01        7.17  1518.74  \n",
              "24           349.31        7.00  1563.24  \n",
              "25           348.03        6.65  1589.48  \n",
              "26           326.72        6.78  1527.19  \n",
              "27           271.36        5.33  1435.30  \n",
              "28           261.73        5.30  1396.49  \n",
              "29           279.46        5.21  1395.42  "
            ],
            "text/html": [
              "\n",
              "  <div id=\"df-befabe98-ad40-4fe2-9412-33f4c73883ab\">\n",
              "    <div class=\"colab-df-container\">\n",
              "      <div>\n",
              "<style scoped>\n",
              "    .dataframe tbody tr th:only-of-type {\n",
              "        vertical-align: middle;\n",
              "    }\n",
              "\n",
              "    .dataframe tbody tr th {\n",
              "        vertical-align: top;\n",
              "    }\n",
              "\n",
              "    .dataframe thead th {\n",
              "        text-align: right;\n",
              "    }\n",
              "</style>\n",
              "<table border=\"1\" class=\"dataframe\">\n",
              "  <thead>\n",
              "    <tr style=\"text-align: right;\">\n",
              "      <th></th>\n",
              "      <th>Log Date / Time</th>\n",
              "      <th>NBCC FEEDER PILLER</th>\n",
              "      <th>LIBRARY BLDG</th>\n",
              "      <th>GIRLS HOSTEL</th>\n",
              "      <th>MAIN BLDG</th>\n",
              "      <th>CIVIL BLDG</th>\n",
              "      <th>FEEDER PILLER 4</th>\n",
              "      <th>FEEDER PILLER 2</th>\n",
              "      <th>SAC BLDG</th>\n",
              "      <th>FEEDER PILLER 5</th>\n",
              "      <th>MAIN POWER</th>\n",
              "      <th>TOTAL</th>\n",
              "    </tr>\n",
              "  </thead>\n",
              "  <tbody>\n",
              "    <tr>\n",
              "      <th>0</th>\n",
              "      <td>01-11-2020 00:00</td>\n",
              "      <td>62.24</td>\n",
              "      <td>37.45</td>\n",
              "      <td>79.90</td>\n",
              "      <td>21.44</td>\n",
              "      <td>14.40</td>\n",
              "      <td>14.22</td>\n",
              "      <td>867.33</td>\n",
              "      <td>56.82</td>\n",
              "      <td>195.30</td>\n",
              "      <td>5.56</td>\n",
              "      <td>1354.66</td>\n",
              "    </tr>\n",
              "    <tr>\n",
              "      <th>1</th>\n",
              "      <td>02-11-2020 00:00</td>\n",
              "      <td>85.79</td>\n",
              "      <td>43.85</td>\n",
              "      <td>84.16</td>\n",
              "      <td>41.09</td>\n",
              "      <td>43.33</td>\n",
              "      <td>14.22</td>\n",
              "      <td>915.78</td>\n",
              "      <td>84.05</td>\n",
              "      <td>182.24</td>\n",
              "      <td>6.63</td>\n",
              "      <td>1501.14</td>\n",
              "    </tr>\n",
              "    <tr>\n",
              "      <th>2</th>\n",
              "      <td>03-11-2020 00:00</td>\n",
              "      <td>35.81</td>\n",
              "      <td>37.00</td>\n",
              "      <td>75.94</td>\n",
              "      <td>0.00</td>\n",
              "      <td>12.11</td>\n",
              "      <td>14.46</td>\n",
              "      <td>865.73</td>\n",
              "      <td>46.98</td>\n",
              "      <td>203.36</td>\n",
              "      <td>5.58</td>\n",
              "      <td>1296.97</td>\n",
              "    </tr>\n",
              "    <tr>\n",
              "      <th>3</th>\n",
              "      <td>04-11-2020 00:00</td>\n",
              "      <td>55.42</td>\n",
              "      <td>36.70</td>\n",
              "      <td>78.72</td>\n",
              "      <td>3.58</td>\n",
              "      <td>22.93</td>\n",
              "      <td>14.34</td>\n",
              "      <td>944.64</td>\n",
              "      <td>85.84</td>\n",
              "      <td>180.06</td>\n",
              "      <td>7.29</td>\n",
              "      <td>1429.52</td>\n",
              "    </tr>\n",
              "    <tr>\n",
              "      <th>4</th>\n",
              "      <td>05-11-2020 00:00</td>\n",
              "      <td>82.27</td>\n",
              "      <td>36.80</td>\n",
              "      <td>79.04</td>\n",
              "      <td>12.48</td>\n",
              "      <td>44.16</td>\n",
              "      <td>14.34</td>\n",
              "      <td>914.24</td>\n",
              "      <td>82.83</td>\n",
              "      <td>224.48</td>\n",
              "      <td>6.93</td>\n",
              "      <td>1497.57</td>\n",
              "    </tr>\n",
              "    <tr>\n",
              "      <th>5</th>\n",
              "      <td>06-11-2020 00:00</td>\n",
              "      <td>60.48</td>\n",
              "      <td>37.30</td>\n",
              "      <td>85.76</td>\n",
              "      <td>18.30</td>\n",
              "      <td>35.63</td>\n",
              "      <td>14.28</td>\n",
              "      <td>886.08</td>\n",
              "      <td>81.17</td>\n",
              "      <td>227.04</td>\n",
              "      <td>6.98</td>\n",
              "      <td>1453.02</td>\n",
              "    </tr>\n",
              "    <tr>\n",
              "      <th>6</th>\n",
              "      <td>07-11-2020 00:00</td>\n",
              "      <td>47.14</td>\n",
              "      <td>36.86</td>\n",
              "      <td>59.52</td>\n",
              "      <td>11.14</td>\n",
              "      <td>21.97</td>\n",
              "      <td>14.40</td>\n",
              "      <td>835.20</td>\n",
              "      <td>50.46</td>\n",
              "      <td>240.93</td>\n",
              "      <td>5.57</td>\n",
              "      <td>1323.19</td>\n",
              "    </tr>\n",
              "    <tr>\n",
              "      <th>7</th>\n",
              "      <td>08-11-2020 00:00</td>\n",
              "      <td>53.18</td>\n",
              "      <td>36.45</td>\n",
              "      <td>50.94</td>\n",
              "      <td>10.24</td>\n",
              "      <td>27.12</td>\n",
              "      <td>14.46</td>\n",
              "      <td>874.82</td>\n",
              "      <td>57.79</td>\n",
              "      <td>215.07</td>\n",
              "      <td>5.35</td>\n",
              "      <td>1345.42</td>\n",
              "    </tr>\n",
              "    <tr>\n",
              "      <th>8</th>\n",
              "      <td>09-11-2020 00:00</td>\n",
              "      <td>74.94</td>\n",
              "      <td>28.40</td>\n",
              "      <td>70.82</td>\n",
              "      <td>16.58</td>\n",
              "      <td>43.20</td>\n",
              "      <td>14.28</td>\n",
              "      <td>882.37</td>\n",
              "      <td>80.62</td>\n",
              "      <td>225.22</td>\n",
              "      <td>7.13</td>\n",
              "      <td>1443.56</td>\n",
              "    </tr>\n",
              "    <tr>\n",
              "      <th>9</th>\n",
              "      <td>10-11-2020 00:00</td>\n",
              "      <td>83.42</td>\n",
              "      <td>15.90</td>\n",
              "      <td>60.86</td>\n",
              "      <td>4.99</td>\n",
              "      <td>22.91</td>\n",
              "      <td>14.28</td>\n",
              "      <td>883.58</td>\n",
              "      <td>96.21</td>\n",
              "      <td>204.38</td>\n",
              "      <td>7.05</td>\n",
              "      <td>1393.58</td>\n",
              "    </tr>\n",
              "    <tr>\n",
              "      <th>10</th>\n",
              "      <td>11-11-2020 00:00</td>\n",
              "      <td>77.50</td>\n",
              "      <td>21.95</td>\n",
              "      <td>70.88</td>\n",
              "      <td>12.99</td>\n",
              "      <td>25.33</td>\n",
              "      <td>13.14</td>\n",
              "      <td>901.25</td>\n",
              "      <td>78.29</td>\n",
              "      <td>211.17</td>\n",
              "      <td>7.76</td>\n",
              "      <td>1420.26</td>\n",
              "    </tr>\n",
              "    <tr>\n",
              "      <th>11</th>\n",
              "      <td>12-11-2020 00:00</td>\n",
              "      <td>72.35</td>\n",
              "      <td>29.60</td>\n",
              "      <td>68.22</td>\n",
              "      <td>11.65</td>\n",
              "      <td>44.75</td>\n",
              "      <td>11.04</td>\n",
              "      <td>905.02</td>\n",
              "      <td>77.73</td>\n",
              "      <td>200.26</td>\n",
              "      <td>8.35</td>\n",
              "      <td>1428.97</td>\n",
              "    </tr>\n",
              "    <tr>\n",
              "      <th>12</th>\n",
              "      <td>13-11-2020 00:00</td>\n",
              "      <td>60.74</td>\n",
              "      <td>31.95</td>\n",
              "      <td>67.46</td>\n",
              "      <td>9.09</td>\n",
              "      <td>35.52</td>\n",
              "      <td>14.10</td>\n",
              "      <td>896.83</td>\n",
              "      <td>84.83</td>\n",
              "      <td>201.02</td>\n",
              "      <td>7.15</td>\n",
              "      <td>1408.69</td>\n",
              "    </tr>\n",
              "    <tr>\n",
              "      <th>13</th>\n",
              "      <td>14-11-2020 00:00</td>\n",
              "      <td>40.96</td>\n",
              "      <td>32.00</td>\n",
              "      <td>39.10</td>\n",
              "      <td>0.00</td>\n",
              "      <td>22.08</td>\n",
              "      <td>14.28</td>\n",
              "      <td>850.50</td>\n",
              "      <td>69.34</td>\n",
              "      <td>199.55</td>\n",
              "      <td>5.74</td>\n",
              "      <td>1273.55</td>\n",
              "    </tr>\n",
              "    <tr>\n",
              "      <th>14</th>\n",
              "      <td>15-11-2020 00:00</td>\n",
              "      <td>40.58</td>\n",
              "      <td>30.30</td>\n",
              "      <td>42.40</td>\n",
              "      <td>0.00</td>\n",
              "      <td>24.24</td>\n",
              "      <td>14.34</td>\n",
              "      <td>884.67</td>\n",
              "      <td>57.55</td>\n",
              "      <td>194.40</td>\n",
              "      <td>5.72</td>\n",
              "      <td>1294.20</td>\n",
              "    </tr>\n",
              "    <tr>\n",
              "      <th>15</th>\n",
              "      <td>16-11-2020 00:00</td>\n",
              "      <td>55.04</td>\n",
              "      <td>30.30</td>\n",
              "      <td>49.66</td>\n",
              "      <td>11.58</td>\n",
              "      <td>27.73</td>\n",
              "      <td>14.16</td>\n",
              "      <td>909.38</td>\n",
              "      <td>77.14</td>\n",
              "      <td>195.81</td>\n",
              "      <td>7.09</td>\n",
              "      <td>1377.89</td>\n",
              "    </tr>\n",
              "    <tr>\n",
              "      <th>16</th>\n",
              "      <td>17-11-2020 00:00</td>\n",
              "      <td>94.88</td>\n",
              "      <td>27.40</td>\n",
              "      <td>61.60</td>\n",
              "      <td>5.12</td>\n",
              "      <td>24.00</td>\n",
              "      <td>13.68</td>\n",
              "      <td>893.44</td>\n",
              "      <td>73.76</td>\n",
              "      <td>207.90</td>\n",
              "      <td>6.88</td>\n",
              "      <td>1408.66</td>\n",
              "    </tr>\n",
              "    <tr>\n",
              "      <th>17</th>\n",
              "      <td>18-11-2020 00:00</td>\n",
              "      <td>77.50</td>\n",
              "      <td>30.40</td>\n",
              "      <td>52.64</td>\n",
              "      <td>4.93</td>\n",
              "      <td>43.68</td>\n",
              "      <td>14.22</td>\n",
              "      <td>925.70</td>\n",
              "      <td>67.76</td>\n",
              "      <td>204.19</td>\n",
              "      <td>6.47</td>\n",
              "      <td>1427.49</td>\n",
              "    </tr>\n",
              "    <tr>\n",
              "      <th>18</th>\n",
              "      <td>19-11-2020 00:00</td>\n",
              "      <td>60.48</td>\n",
              "      <td>30.20</td>\n",
              "      <td>56.42</td>\n",
              "      <td>4.93</td>\n",
              "      <td>30.24</td>\n",
              "      <td>14.28</td>\n",
              "      <td>917.57</td>\n",
              "      <td>61.36</td>\n",
              "      <td>200.80</td>\n",
              "      <td>6.13</td>\n",
              "      <td>1382.41</td>\n",
              "    </tr>\n",
              "    <tr>\n",
              "      <th>19</th>\n",
              "      <td>20-11-2020 00:00</td>\n",
              "      <td>76.86</td>\n",
              "      <td>30.40</td>\n",
              "      <td>56.16</td>\n",
              "      <td>0.00</td>\n",
              "      <td>30.00</td>\n",
              "      <td>14.10</td>\n",
              "      <td>939.46</td>\n",
              "      <td>55.47</td>\n",
              "      <td>199.49</td>\n",
              "      <td>5.56</td>\n",
              "      <td>1407.50</td>\n",
              "    </tr>\n",
              "    <tr>\n",
              "      <th>20</th>\n",
              "      <td>21-11-2020 00:00</td>\n",
              "      <td>79.90</td>\n",
              "      <td>28.80</td>\n",
              "      <td>49.06</td>\n",
              "      <td>2.69</td>\n",
              "      <td>24.96</td>\n",
              "      <td>14.22</td>\n",
              "      <td>874.62</td>\n",
              "      <td>52.11</td>\n",
              "      <td>209.82</td>\n",
              "      <td>5.37</td>\n",
              "      <td>1341.55</td>\n",
              "    </tr>\n",
              "    <tr>\n",
              "      <th>21</th>\n",
              "      <td>22-11-2020 00:00</td>\n",
              "      <td>42.08</td>\n",
              "      <td>23.15</td>\n",
              "      <td>46.72</td>\n",
              "      <td>1.73</td>\n",
              "      <td>36.11</td>\n",
              "      <td>14.22</td>\n",
              "      <td>800.70</td>\n",
              "      <td>54.61</td>\n",
              "      <td>238.59</td>\n",
              "      <td>5.40</td>\n",
              "      <td>1263.31</td>\n",
              "    </tr>\n",
              "    <tr>\n",
              "      <th>22</th>\n",
              "      <td>23-11-2020 00:00</td>\n",
              "      <td>39.81</td>\n",
              "      <td>24.25</td>\n",
              "      <td>38.88</td>\n",
              "      <td>8.38</td>\n",
              "      <td>43.20</td>\n",
              "      <td>14.28</td>\n",
              "      <td>918.21</td>\n",
              "      <td>61.84</td>\n",
              "      <td>304.99</td>\n",
              "      <td>7.02</td>\n",
              "      <td>1460.86</td>\n",
              "    </tr>\n",
              "    <tr>\n",
              "      <th>23</th>\n",
              "      <td>24-11-2020 00:00</td>\n",
              "      <td>45.34</td>\n",
              "      <td>24.25</td>\n",
              "      <td>55.52</td>\n",
              "      <td>6.34</td>\n",
              "      <td>28.45</td>\n",
              "      <td>14.28</td>\n",
              "      <td>951.04</td>\n",
              "      <td>63.34</td>\n",
              "      <td>323.01</td>\n",
              "      <td>7.17</td>\n",
              "      <td>1518.74</td>\n",
              "    </tr>\n",
              "    <tr>\n",
              "      <th>24</th>\n",
              "      <td>25-11-2020 00:00</td>\n",
              "      <td>33.89</td>\n",
              "      <td>24.05</td>\n",
              "      <td>47.04</td>\n",
              "      <td>4.99</td>\n",
              "      <td>33.36</td>\n",
              "      <td>14.10</td>\n",
              "      <td>961.47</td>\n",
              "      <td>88.03</td>\n",
              "      <td>349.31</td>\n",
              "      <td>7.00</td>\n",
              "      <td>1563.24</td>\n",
              "    </tr>\n",
              "    <tr>\n",
              "      <th>25</th>\n",
              "      <td>26-11-2020 00:00</td>\n",
              "      <td>35.04</td>\n",
              "      <td>25.86</td>\n",
              "      <td>60.70</td>\n",
              "      <td>4.35</td>\n",
              "      <td>34.91</td>\n",
              "      <td>13.74</td>\n",
              "      <td>969.86</td>\n",
              "      <td>90.34</td>\n",
              "      <td>348.03</td>\n",
              "      <td>6.65</td>\n",
              "      <td>1589.48</td>\n",
              "    </tr>\n",
              "    <tr>\n",
              "      <th>26</th>\n",
              "      <td>27-11-2020 00:00</td>\n",
              "      <td>32.00</td>\n",
              "      <td>25.55</td>\n",
              "      <td>49.60</td>\n",
              "      <td>4.93</td>\n",
              "      <td>29.52</td>\n",
              "      <td>12.78</td>\n",
              "      <td>947.65</td>\n",
              "      <td>91.66</td>\n",
              "      <td>326.72</td>\n",
              "      <td>6.78</td>\n",
              "      <td>1527.19</td>\n",
              "    </tr>\n",
              "    <tr>\n",
              "      <th>27</th>\n",
              "      <td>28-11-2020 00:00</td>\n",
              "      <td>29.60</td>\n",
              "      <td>23.60</td>\n",
              "      <td>44.70</td>\n",
              "      <td>0.26</td>\n",
              "      <td>32.88</td>\n",
              "      <td>13.74</td>\n",
              "      <td>948.61</td>\n",
              "      <td>65.22</td>\n",
              "      <td>271.36</td>\n",
              "      <td>5.33</td>\n",
              "      <td>1435.30</td>\n",
              "    </tr>\n",
              "    <tr>\n",
              "      <th>28</th>\n",
              "      <td>29-11-2020 00:00</td>\n",
              "      <td>33.15</td>\n",
              "      <td>23.85</td>\n",
              "      <td>54.02</td>\n",
              "      <td>0.06</td>\n",
              "      <td>36.96</td>\n",
              "      <td>12.78</td>\n",
              "      <td>912.90</td>\n",
              "      <td>55.74</td>\n",
              "      <td>261.73</td>\n",
              "      <td>5.30</td>\n",
              "      <td>1396.49</td>\n",
              "    </tr>\n",
              "    <tr>\n",
              "      <th>29</th>\n",
              "      <td>30-11-2020 00:00</td>\n",
              "      <td>35.26</td>\n",
              "      <td>24.50</td>\n",
              "      <td>50.14</td>\n",
              "      <td>1.28</td>\n",
              "      <td>35.52</td>\n",
              "      <td>13.14</td>\n",
              "      <td>894.27</td>\n",
              "      <td>56.64</td>\n",
              "      <td>279.46</td>\n",
              "      <td>5.21</td>\n",
              "      <td>1395.42</td>\n",
              "    </tr>\n",
              "  </tbody>\n",
              "</table>\n",
              "</div>\n",
              "      <button class=\"colab-df-convert\" onclick=\"convertToInteractive('df-befabe98-ad40-4fe2-9412-33f4c73883ab')\"\n",
              "              title=\"Convert this dataframe to an interactive table.\"\n",
              "              style=\"display:none;\">\n",
              "        \n",
              "  <svg xmlns=\"http://www.w3.org/2000/svg\" height=\"24px\"viewBox=\"0 0 24 24\"\n",
              "       width=\"24px\">\n",
              "    <path d=\"M0 0h24v24H0V0z\" fill=\"none\"/>\n",
              "    <path d=\"M18.56 5.44l.94 2.06.94-2.06 2.06-.94-2.06-.94-.94-2.06-.94 2.06-2.06.94zm-11 1L8.5 8.5l.94-2.06 2.06-.94-2.06-.94L8.5 2.5l-.94 2.06-2.06.94zm10 10l.94 2.06.94-2.06 2.06-.94-2.06-.94-.94-2.06-.94 2.06-2.06.94z\"/><path d=\"M17.41 7.96l-1.37-1.37c-.4-.4-.92-.59-1.43-.59-.52 0-1.04.2-1.43.59L10.3 9.45l-7.72 7.72c-.78.78-.78 2.05 0 2.83L4 21.41c.39.39.9.59 1.41.59.51 0 1.02-.2 1.41-.59l7.78-7.78 2.81-2.81c.8-.78.8-2.07 0-2.86zM5.41 20L4 18.59l7.72-7.72 1.47 1.35L5.41 20z\"/>\n",
              "  </svg>\n",
              "      </button>\n",
              "      \n",
              "  <style>\n",
              "    .colab-df-container {\n",
              "      display:flex;\n",
              "      flex-wrap:wrap;\n",
              "      gap: 12px;\n",
              "    }\n",
              "\n",
              "    .colab-df-convert {\n",
              "      background-color: #E8F0FE;\n",
              "      border: none;\n",
              "      border-radius: 50%;\n",
              "      cursor: pointer;\n",
              "      display: none;\n",
              "      fill: #1967D2;\n",
              "      height: 32px;\n",
              "      padding: 0 0 0 0;\n",
              "      width: 32px;\n",
              "    }\n",
              "\n",
              "    .colab-df-convert:hover {\n",
              "      background-color: #E2EBFA;\n",
              "      box-shadow: 0px 1px 2px rgba(60, 64, 67, 0.3), 0px 1px 3px 1px rgba(60, 64, 67, 0.15);\n",
              "      fill: #174EA6;\n",
              "    }\n",
              "\n",
              "    [theme=dark] .colab-df-convert {\n",
              "      background-color: #3B4455;\n",
              "      fill: #D2E3FC;\n",
              "    }\n",
              "\n",
              "    [theme=dark] .colab-df-convert:hover {\n",
              "      background-color: #434B5C;\n",
              "      box-shadow: 0px 1px 3px 1px rgba(0, 0, 0, 0.15);\n",
              "      filter: drop-shadow(0px 1px 2px rgba(0, 0, 0, 0.3));\n",
              "      fill: #FFFFFF;\n",
              "    }\n",
              "  </style>\n",
              "\n",
              "      <script>\n",
              "        const buttonEl =\n",
              "          document.querySelector('#df-befabe98-ad40-4fe2-9412-33f4c73883ab button.colab-df-convert');\n",
              "        buttonEl.style.display =\n",
              "          google.colab.kernel.accessAllowed ? 'block' : 'none';\n",
              "\n",
              "        async function convertToInteractive(key) {\n",
              "          const element = document.querySelector('#df-befabe98-ad40-4fe2-9412-33f4c73883ab');\n",
              "          const dataTable =\n",
              "            await google.colab.kernel.invokeFunction('convertToInteractive',\n",
              "                                                     [key], {});\n",
              "          if (!dataTable) return;\n",
              "\n",
              "          const docLinkHtml = 'Like what you see? Visit the ' +\n",
              "            '<a target=\"_blank\" href=https://colab.research.google.com/notebooks/data_table.ipynb>data table notebook</a>'\n",
              "            + ' to learn more about interactive tables.';\n",
              "          element.innerHTML = '';\n",
              "          dataTable['output_type'] = 'display_data';\n",
              "          await google.colab.output.renderOutput(dataTable, element);\n",
              "          const docLink = document.createElement('div');\n",
              "          docLink.innerHTML = docLinkHtml;\n",
              "          element.appendChild(docLink);\n",
              "        }\n",
              "      </script>\n",
              "    </div>\n",
              "  </div>\n",
              "  "
            ]
          },
          "metadata": {},
          "execution_count": 121
        }
      ]
    },
    {
      "cell_type": "code",
      "source": [
        "test.info()"
      ],
      "metadata": {
        "colab": {
          "base_uri": "https://localhost:8080/"
        },
        "id": "0qWZwbksPsYY",
        "outputId": "672967bc-acbf-4cf7-c57d-7c4209ec2bf4"
      },
      "execution_count": 122,
      "outputs": [
        {
          "output_type": "stream",
          "name": "stdout",
          "text": [
            "<class 'pandas.core.frame.DataFrame'>\n",
            "RangeIndex: 30 entries, 0 to 29\n",
            "Data columns (total 12 columns):\n",
            " #   Column              Non-Null Count  Dtype  \n",
            "---  ------              --------------  -----  \n",
            " 0   Log Date / Time     30 non-null     object \n",
            " 1   NBCC FEEDER PILLER  30 non-null     float64\n",
            " 2   LIBRARY BLDG        30 non-null     float64\n",
            " 3   GIRLS HOSTEL        30 non-null     float64\n",
            " 4   MAIN BLDG           30 non-null     float64\n",
            " 5   CIVIL BLDG          30 non-null     float64\n",
            " 6   FEEDER PILLER 4     30 non-null     float64\n",
            " 7   FEEDER PILLER 2     30 non-null     float64\n",
            " 8   SAC BLDG            30 non-null     float64\n",
            " 9   FEEDER PILLER 5     30 non-null     float64\n",
            " 10  MAIN POWER          30 non-null     float64\n",
            " 11  TOTAL               30 non-null     float64\n",
            "dtypes: float64(11), object(1)\n",
            "memory usage: 2.9+ KB\n"
          ]
        }
      ]
    },
    {
      "cell_type": "code",
      "source": [
        "test.plot()"
      ],
      "metadata": {
        "colab": {
          "base_uri": "https://localhost:8080/",
          "height": 282
        },
        "id": "nnwn8HcQPwA4",
        "outputId": "c950a4a6-85f1-4937-e739-18c85dfacabf"
      },
      "execution_count": 123,
      "outputs": [
        {
          "output_type": "execute_result",
          "data": {
            "text/plain": [
              "<matplotlib.axes._subplots.AxesSubplot at 0x7fd989eb7b20>"
            ]
          },
          "metadata": {},
          "execution_count": 123
        },
        {
          "output_type": "display_data",
          "data": {
            "text/plain": [
              "<Figure size 432x288 with 1 Axes>"
            ],
            "image/png": "[encoded data removed]"
          },
          "metadata": {
            "needs_background": "light"
          }
        }
      ]
    },
    {
      "cell_type": "markdown",
      "source": [
        "# Fitting SARIMA model to the training data"
      ],
      "metadata": {
        "id": "uKasH0jr5qiQ"
      }
    },
    {
      "cell_type": "code",
      "source": [
        "model_sarima = SARIMAX(train[\"TOTAL\"], order=(2,1,2), seasonal_order=(1,1,1,12))\n",
        "model_sarima = model_sarima.fit()"
      ],
      "metadata": {
        "colab": {
          "base_uri": "https://localhost:8080/"
        },
        "id": "XUCXKz-GtTYx",
        "outputId": "a6a8d695-7626-4b3f-f6a3-7620b12f0d8f"
      },
      "execution_count": 124,
      "outputs": [
        {
          "output_type": "stream",
          "name": "stderr",
          "text": [
            "/usr/local/lib/python3.8/dist-packages/statsmodels/tsa/statespace/sarimax.py:978: UserWarning: Non-invertible starting MA parameters found. Using zeros as starting parameters.\n",
            "  warn('Non-invertible starting MA parameters found.'\n",
            "/usr/local/lib/python3.8/dist-packages/statsmodels/base/model.py:566: ConvergenceWarning: Maximum Likelihood optimization failed to converge. Check mle_retvals\n",
            "  warnings.warn(\"Maximum Likelihood optimization failed to \"\n"
          ]
        }
      ]
    },
    {
      "cell_type": "markdown",
      "source": [
        "#Forecasting energy load using the SARIMA model"
      ],
      "metadata": {
        "id": "HZ4BMMjp5zo5"
      }
    },
    {
      "cell_type": "code",
      "source": [
        "predictions_sarima = model_sarima.predict(start=len(train), end=len(train)+len(test)-1, typ=\"levels\")"
      ],
      "metadata": {
        "id": "N88QIpQn5yyT"
      },
      "execution_count": 125,
      "outputs": []
    },
    {
      "cell_type": "code",
      "source": [
        "predictions_sarima"
      ],
      "metadata": {
        "colab": {
          "base_uri": "https://localhost:8080/"
        },
        "id": "qq2gwDbP5501",
        "outputId": "5493c04a-d4a0-4574-c553-654d4eaeafdc"
      },
      "execution_count": 126,
      "outputs": [
        {
          "output_type": "execute_result",
          "data": {
            "text/plain": [
              "305    1541.620427\n",
              "306    1652.320256\n",
              "307    1568.166814\n",
              "308    1479.197195\n",
              "309    1631.449592\n",
              "310    1682.484281\n",
              "311    1560.944581\n",
              "312    1623.408857\n",
              "313    1554.154906\n",
              "314    1621.911272\n",
              "315    1595.253146\n",
              "316    1655.188623\n",
              "317    1630.987137\n",
              "318    1635.696894\n",
              "319    1593.205422\n",
              "320    1571.001879\n",
              "321    1618.083141\n",
              "322    1651.541065\n",
              "323    1606.530529\n",
              "324    1620.717116\n",
              "325    1548.362686\n",
              "326    1591.555862\n",
              "327    1547.698555\n",
              "328    1593.811669\n",
              "329    1617.360519\n",
              "330    1640.905898\n",
              "331    1588.184282\n",
              "332    1551.818041\n",
              "333    1618.741662\n",
              "334    1656.214752\n",
              "Name: predicted_mean, dtype: float64"
            ]
          },
          "metadata": {},
          "execution_count": 126
        }
      ]
    },
    {
      "cell_type": "markdown",
      "source": [
        "#Plotting the original and forecasted data"
      ],
      "metadata": {
        "id": "mBkkZIPsQ1HY"
      }
    },
    {
      "cell_type": "code",
      "source": [
        "predictions_sarima.plot()"
      ],
      "metadata": {
        "colab": {
          "base_uri": "https://localhost:8080/",
          "height": 282
        },
        "id": "MyJ7lZtbQ6A5",
        "outputId": "72a43b72-6196-458b-eadc-c79d40467171"
      },
      "execution_count": 127,
      "outputs": [
        {
          "output_type": "execute_result",
          "data": {
            "text/plain": [
              "<matplotlib.axes._subplots.AxesSubplot at 0x7fd989e6e5b0>"
            ]
          },
          "metadata": {},
          "execution_count": 127
        },
        {
          "output_type": "display_data",
          "data": {
            "text/plain": [
              "<Figure size 432x288 with 1 Axes>"
            ],
            "image/png": "[encoded data removed]"
          },
          "metadata": {
            "needs_background": "light"
          }
        }
      ]
    },
    {
      "cell_type": "code",
      "source": [
        "test['TOTAL'].plot()"
      ],
      "metadata": {
        "colab": {
          "base_uri": "https://localhost:8080/",
          "height": 283
        },
        "id": "KSclP5IqQ9Cv",
        "outputId": "28601828-338e-49e5-de3d-13d4c2d9c847"
      },
      "execution_count": 128,
      "outputs": [
        {
          "output_type": "execute_result",
          "data": {
            "text/plain": [
              "<matplotlib.axes._subplots.AxesSubplot at 0x7fd989dda9d0>"
            ]
          },
          "metadata": {},
          "execution_count": 128
        },
        {
          "output_type": "display_data",
          "data": {
            "text/plain": [
              "<Figure size 432x288 with 1 Axes>"
            ],
            "image/png": "[encoded data removed]"
          },
          "metadata": {
            "needs_background": "light"
          }
        }
      ]
    },
    {
      "cell_type": "code",
      "source": [
        "predictions_sarima.plot()\n",
        "train['TOTAL'].plot()\n",
        "plt.show()"
      ],
      "metadata": {
        "colab": {
          "base_uri": "https://localhost:8080/",
          "height": 265
        },
        "id": "xW30PedKRC0D",
        "outputId": "f5724d4e-61dd-4154-cc57-f2480e426d0d"
      },
      "execution_count": 129,
      "outputs": [
        {
          "output_type": "display_data",
          "data": {
            "text/plain": [
              "<Figure size 432x288 with 1 Axes>"
            ],
            "image/png": "[encoded data removed]"
          },
          "metadata": {
            "needs_background": "light"
          }
        }
      ]
    },
    {
      "cell_type": "markdown",
      "source": [
        "#Calculating the Root Mean Square Error"
      ],
      "metadata": {
        "id": "Qb4usO50RWPe"
      }
    },
    {
      "cell_type": "code",
      "source": [
        "mse_sarima = mean_squared_error(test[\"TOTAL\"], predictions_sarima)\n",
        "rmse_sarima = np.sqrt(mse_sarima)"
      ],
      "metadata": {
        "id": "itWToqyzRVka"
      },
      "execution_count": 130,
      "outputs": []
    },
    {
      "cell_type": "code",
      "source": [
        "rmse_sarima"
      ],
      "metadata": {
        "colab": {
          "base_uri": "https://localhost:8080/"
        },
        "id": "_npJnT7o5_8w",
        "outputId": "7516799f-b7a1-4644-f832-fdbe63dc04b5"
      },
      "execution_count": 131,
      "outputs": [
        {
          "output_type": "execute_result",
          "data": {
            "text/plain": [
              "206.9908751364675"
            ]
          },
          "metadata": {},
          "execution_count": 131
        }
      ]
    }
  ],
  "metadata": {
    "colab": {
      "provenance": [],
      "authorship_tag": "ABX9TyMuZvp3jyVX2u+JcySOv0Mz",
      "include_colab_link": true
    },
    "kernelspec": {
      "display_name": "Python 3",
      "name": "python3"
    },
    "language_info": {
      "name": "python"
    }
  },
  "nbformat": 4,
  "nbformat_minor": 0
}