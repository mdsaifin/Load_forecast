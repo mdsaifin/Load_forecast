{
  "nbformat": 4,
  "nbformat_minor": 0,
  "metadata": {
    "colab": {
      "provenance": [],
      "authorship_tag": "ABX9TyNlZ40hYGdLgldtlxde3itE",
      "include_colab_link": true
    },
    "kernelspec": {
      "name": "python3",
      "display_name": "Python 3"
    },
    "language_info": {
      "name": "python"
    }
  },
  "cells": [
    {
      "cell_type": "markdown",
      "metadata": {
        "id": "view-in-github",
        "colab_type": "text"
      },
      "source": [
        "<a href=\"https://colab.research.google.com/github/mdsaifin/Load_forecast/blob/main/Load_forecasting_for_NIT_Patna.ipynb\" target=\"_parent\"><img src=\"https://colab.research.google.com/assets/colab-badge.svg\" alt=\"Open In Colab\"/></a>"
      ]
    },
    {
      "cell_type": "code",
      "source": [
        "# Project: Energy Load Forecasting for NIT Patna\n",
        "# By MD SAIF\n",
        "# Date of Starting: 6 feb 2023\n",
        "# Date of Completion: 16 feb 2023\n",
        "# Place: NIT Patna"
      ],
      "metadata": {
        "id": "AC6VelfeuDb_"
      },
      "execution_count": 272,
      "outputs": []
    },
    {
      "cell_type": "markdown",
      "source": [
        "## Importing Libraries"
      ],
      "metadata": {
        "id": "QHamVVYxuoKY"
      }
    },
    {
      "cell_type": "code",
      "execution_count": 273,
      "metadata": {
        "id": "t3p0JqwWHWWe"
      },
      "outputs": [],
      "source": [
        "import pandas as pd\n",
        "import numpy as np\n",
        "import matplotlib.pyplot as plt\n",
        "from math import sqrt\n",
        "from sklearn.metrics import mean_squared_error\n",
        "\n",
        "from statsmodels.tsa.ar_model import AutoReg\n",
        "from statsmodels.tsa.arima.model import ARIMA\n",
        "from statsmodels.tsa.statespace.sarimax import SARIMAX"
      ]
    },
    {
      "cell_type": "code",
      "source": [
        "data = pd.read_csv('NITP_load_data.csv')"
      ],
      "metadata": {
        "id": "ymSgTDjoUR5X"
      },
      "execution_count": 274,
      "outputs": []
    },
    {
      "cell_type": "code",
      "source": [
        "data"
      ],
      "metadata": {
        "colab": {
          "base_uri": "https://localhost:8080/",
          "height": 658
        },
        "id": "t8WZwY4nUe9b",
        "outputId": "14eb22b4-d437-4af0-f079-18d5a41c6cfd"
      },
      "execution_count": 275,
      "outputs": [
        {
          "output_type": "execute_result",
          "data": {
            "text/plain": [
              "      Log Date / Time  NBCC FEEDER PILLER  LIBRARY BLDG  GIRLS HOSTEL  \\\n",
              "0    01-01-2020 00:00                 0.0           0.0           0.0   \n",
              "1    02-01-2020 00:00                 0.0           0.0           0.0   \n",
              "2    03-01-2020 00:00                 0.0           0.0           0.0   \n",
              "3    04-01-2020 00:00                 0.0           0.0           0.0   \n",
              "4    05-01-2020 00:00                 0.0           0.0           0.0   \n",
              "..                ...                 ...           ...           ...   \n",
              "361  27-12-2020 00:00                 0.0           0.0           0.0   \n",
              "362  28-12-2020 00:00                 0.0           0.0           0.0   \n",
              "363  29-12-2020 00:00                 0.0           0.0           0.0   \n",
              "364  30-12-2020 00:00                 0.0           0.0           0.0   \n",
              "365  31-12-2020 00:00                 0.0           0.0           0.0   \n",
              "\n",
              "     MAIN BLDG  CIVIL BLDG  FEEDER PILLER 4  FEEDER PILLER 2  SAC BLDG  \\\n",
              "0          0.0         0.0              0.0          1041.41    181.26   \n",
              "1          0.0         0.0              0.0           985.79    194.38   \n",
              "2          0.0         0.0              0.0           996.35    200.86   \n",
              "3          0.0         0.0              0.0           920.51    171.73   \n",
              "4          0.0         0.0              0.0           887.94    133.01   \n",
              "..         ...         ...              ...              ...       ...   \n",
              "361        0.0         0.0              0.0           882.75     61.39   \n",
              "362        0.0         0.0              0.0           913.34     70.77   \n",
              "363        0.0         0.0              0.0           929.22     80.80   \n",
              "364        0.0         0.0              0.0           895.49     74.69   \n",
              "365        0.0         0.0              0.0           954.24     76.80   \n",
              "\n",
              "     FEEDER PILLER 5  MAIN POWER    TOTAL  \n",
              "0             367.04        7.28  1596.99  \n",
              "1             355.01        8.31  1543.49  \n",
              "2             348.99        8.30  1554.50  \n",
              "3             344.93        6.64  1443.81  \n",
              "4             376.06        5.65  1402.66  \n",
              "..               ...         ...      ...  \n",
              "361           345.09        4.88  1294.11  \n",
              "362           326.85        7.16  1318.12  \n",
              "363           391.17        6.60  1407.79  \n",
              "364           394.14        6.47  1370.79  \n",
              "365           390.40        6.71  1428.15  \n",
              "\n",
              "[366 rows x 12 columns]"
            ],
            "text/html": [
              "\n",
              "  <div id=\"df-e5671924-1883-4799-8b49-a7a0ad47ae1d\">\n",
              "    <div class=\"colab-df-container\">\n",
              "      <div>\n",
              "<style scoped>\n",
              "    .dataframe tbody tr th:only-of-type {\n",
              "        vertical-align: middle;\n",
              "    }\n",
              "\n",
              "    .dataframe tbody tr th {\n",
              "        vertical-align: top;\n",
              "    }\n",
              "\n",
              "    .dataframe thead th {\n",
              "        text-align: right;\n",
              "    }\n",
              "</style>\n",
              "<table border=\"1\" class=\"dataframe\">\n",
              "  <thead>\n",
              "    <tr style=\"text-align: right;\">\n",
              "      <th></th>\n",
              "      <th>Log Date / Time</th>\n",
              "      <th>NBCC FEEDER PILLER</th>\n",
              "      <th>LIBRARY BLDG</th>\n",
              "      <th>GIRLS HOSTEL</th>\n",
              "      <th>MAIN BLDG</th>\n",
              "      <th>CIVIL BLDG</th>\n",
              "      <th>FEEDER PILLER 4</th>\n",
              "      <th>FEEDER PILLER 2</th>\n",
              "      <th>SAC BLDG</th>\n",
              "      <th>FEEDER PILLER 5</th>\n",
              "      <th>MAIN POWER</th>\n",
              "      <th>TOTAL</th>\n",
              "    </tr>\n",
              "  </thead>\n",
              "  <tbody>\n",
              "    <tr>\n",
              "      <th>0</th>\n",
              "      <td>01-01-2020 00:00</td>\n",
              "      <td>0.0</td>\n",
              "      <td>0.0</td>\n",
              "      <td>0.0</td>\n",
              "      <td>0.0</td>\n",
              "      <td>0.0</td>\n",
              "      <td>0.0</td>\n",
              "      <td>1041.41</td>\n",
              "      <td>181.26</td>\n",
              "      <td>367.04</td>\n",
              "      <td>7.28</td>\n",
              "      <td>1596.99</td>\n",
              "    </tr>\n",
              "    <tr>\n",
              "      <th>1</th>\n",
              "      <td>02-01-2020 00:00</td>\n",
              "      <td>0.0</td>\n",
              "      <td>0.0</td>\n",
              "      <td>0.0</td>\n",
              "      <td>0.0</td>\n",
              "      <td>0.0</td>\n",
              "      <td>0.0</td>\n",
              "      <td>985.79</td>\n",
              "      <td>194.38</td>\n",
              "      <td>355.01</td>\n",
              "      <td>8.31</td>\n",
              "      <td>1543.49</td>\n",
              "    </tr>\n",
              "    <tr>\n",
              "      <th>2</th>\n",
              "      <td>03-01-2020 00:00</td>\n",
              "      <td>0.0</td>\n",
              "      <td>0.0</td>\n",
              "      <td>0.0</td>\n",
              "      <td>0.0</td>\n",
              "      <td>0.0</td>\n",
              "      <td>0.0</td>\n",
              "      <td>996.35</td>\n",
              "      <td>200.86</td>\n",
              "      <td>348.99</td>\n",
              "      <td>8.30</td>\n",
              "      <td>1554.50</td>\n",
              "    </tr>\n",
              "    <tr>\n",
              "      <th>3</th>\n",
              "      <td>04-01-2020 00:00</td>\n",
              "      <td>0.0</td>\n",
              "      <td>0.0</td>\n",
              "      <td>0.0</td>\n",
              "      <td>0.0</td>\n",
              "      <td>0.0</td>\n",
              "      <td>0.0</td>\n",
              "      <td>920.51</td>\n",
              "      <td>171.73</td>\n",
              "      <td>344.93</td>\n",
              "      <td>6.64</td>\n",
              "      <td>1443.81</td>\n",
              "    </tr>\n",
              "    <tr>\n",
              "      <th>4</th>\n",
              "      <td>05-01-2020 00:00</td>\n",
              "      <td>0.0</td>\n",
              "      <td>0.0</td>\n",
              "      <td>0.0</td>\n",
              "      <td>0.0</td>\n",
              "      <td>0.0</td>\n",
              "      <td>0.0</td>\n",
              "      <td>887.94</td>\n",
              "      <td>133.01</td>\n",
              "      <td>376.06</td>\n",
              "      <td>5.65</td>\n",
              "      <td>1402.66</td>\n",
              "    </tr>\n",
              "    <tr>\n",
              "      <th>...</th>\n",
              "      <td>...</td>\n",
              "      <td>...</td>\n",
              "      <td>...</td>\n",
              "      <td>...</td>\n",
              "      <td>...</td>\n",
              "      <td>...</td>\n",
              "      <td>...</td>\n",
              "      <td>...</td>\n",
              "      <td>...</td>\n",
              "      <td>...</td>\n",
              "      <td>...</td>\n",
              "      <td>...</td>\n",
              "    </tr>\n",
              "    <tr>\n",
              "      <th>361</th>\n",
              "      <td>27-12-2020 00:00</td>\n",
              "      <td>0.0</td>\n",
              "      <td>0.0</td>\n",
              "      <td>0.0</td>\n",
              "      <td>0.0</td>\n",
              "      <td>0.0</td>\n",
              "      <td>0.0</td>\n",
              "      <td>882.75</td>\n",
              "      <td>61.39</td>\n",
              "      <td>345.09</td>\n",
              "      <td>4.88</td>\n",
              "      <td>1294.11</td>\n",
              "    </tr>\n",
              "    <tr>\n",
              "      <th>362</th>\n",
              "      <td>28-12-2020 00:00</td>\n",
              "      <td>0.0</td>\n",
              "      <td>0.0</td>\n",
              "      <td>0.0</td>\n",
              "      <td>0.0</td>\n",
              "      <td>0.0</td>\n",
              "      <td>0.0</td>\n",
              "      <td>913.34</td>\n",
              "      <td>70.77</td>\n",
              "      <td>326.85</td>\n",
              "      <td>7.16</td>\n",
              "      <td>1318.12</td>\n",
              "    </tr>\n",
              "    <tr>\n",
              "      <th>363</th>\n",
              "      <td>29-12-2020 00:00</td>\n",
              "      <td>0.0</td>\n",
              "      <td>0.0</td>\n",
              "      <td>0.0</td>\n",
              "      <td>0.0</td>\n",
              "      <td>0.0</td>\n",
              "      <td>0.0</td>\n",
              "      <td>929.22</td>\n",
              "      <td>80.80</td>\n",
              "      <td>391.17</td>\n",
              "      <td>6.60</td>\n",
              "      <td>1407.79</td>\n",
              "    </tr>\n",
              "    <tr>\n",
              "      <th>364</th>\n",
              "      <td>30-12-2020 00:00</td>\n",
              "      <td>0.0</td>\n",
              "      <td>0.0</td>\n",
              "      <td>0.0</td>\n",
              "      <td>0.0</td>\n",
              "      <td>0.0</td>\n",
              "      <td>0.0</td>\n",
              "      <td>895.49</td>\n",
              "      <td>74.69</td>\n",
              "      <td>394.14</td>\n",
              "      <td>6.47</td>\n",
              "      <td>1370.79</td>\n",
              "    </tr>\n",
              "    <tr>\n",
              "      <th>365</th>\n",
              "      <td>31-12-2020 00:00</td>\n",
              "      <td>0.0</td>\n",
              "      <td>0.0</td>\n",
              "      <td>0.0</td>\n",
              "      <td>0.0</td>\n",
              "      <td>0.0</td>\n",
              "      <td>0.0</td>\n",
              "      <td>954.24</td>\n",
              "      <td>76.80</td>\n",
              "      <td>390.40</td>\n",
              "      <td>6.71</td>\n",
              "      <td>1428.15</td>\n",
              "    </tr>\n",
              "  </tbody>\n",
              "</table>\n",
              "<p>366 rows × 12 columns</p>\n",
              "</div>\n",
              "      <button class=\"colab-df-convert\" onclick=\"convertToInteractive('df-e5671924-1883-4799-8b49-a7a0ad47ae1d')\"\n",
              "              title=\"Convert this dataframe to an interactive table.\"\n",
              "              style=\"display:none;\">\n",
              "        \n",
              "  <svg xmlns=\"http://www.w3.org/2000/svg\" height=\"24px\"viewBox=\"0 0 24 24\"\n",
              "       width=\"24px\">\n",
              "    <path d=\"M0 0h24v24H0V0z\" fill=\"none\"/>\n",
              "    <path d=\"M18.56 5.44l.94 2.06.94-2.06 2.06-.94-2.06-.94-.94-2.06-.94 2.06-2.06.94zm-11 1L8.5 8.5l.94-2.06 2.06-.94-2.06-.94L8.5 2.5l-.94 2.06-2.06.94zm10 10l.94 2.06.94-2.06 2.06-.94-2.06-.94-.94-2.06-.94 2.06-2.06.94z\"/><path d=\"M17.41 7.96l-1.37-1.37c-.4-.4-.92-.59-1.43-.59-.52 0-1.04.2-1.43.59L10.3 9.45l-7.72 7.72c-.78.78-.78 2.05 0 2.83L4 21.41c.39.39.9.59 1.41.59.51 0 1.02-.2 1.41-.59l7.78-7.78 2.81-2.81c.8-.78.8-2.07 0-2.86zM5.41 20L4 18.59l7.72-7.72 1.47 1.35L5.41 20z\"/>\n",
              "  </svg>\n",
              "      </button>\n",
              "      \n",
              "  <style>\n",
              "    .colab-df-container {\n",
              "      display:flex;\n",
              "      flex-wrap:wrap;\n",
              "      gap: 12px;\n",
              "    }\n",
              "\n",
              "    .colab-df-convert {\n",
              "      background-color: #E8F0FE;\n",
              "      border: none;\n",
              "      border-radius: 50%;\n",
              "      cursor: pointer;\n",
              "      display: none;\n",
              "      fill: #1967D2;\n",
              "      height: 32px;\n",
              "      padding: 0 0 0 0;\n",
              "      width: 32px;\n",
              "    }\n",
              "\n",
              "    .colab-df-convert:hover {\n",
              "      background-color: #E2EBFA;\n",
              "      box-shadow: 0px 1px 2px rgba(60, 64, 67, 0.3), 0px 1px 3px 1px rgba(60, 64, 67, 0.15);\n",
              "      fill: #174EA6;\n",
              "    }\n",
              "\n",
              "    [theme=dark] .colab-df-convert {\n",
              "      background-color: #3B4455;\n",
              "      fill: #D2E3FC;\n",
              "    }\n",
              "\n",
              "    [theme=dark] .colab-df-convert:hover {\n",
              "      background-color: #434B5C;\n",
              "      box-shadow: 0px 1px 3px 1px rgba(0, 0, 0, 0.15);\n",
              "      filter: drop-shadow(0px 1px 2px rgba(0, 0, 0, 0.3));\n",
              "      fill: #FFFFFF;\n",
              "    }\n",
              "  </style>\n",
              "\n",
              "      <script>\n",
              "        const buttonEl =\n",
              "          document.querySelector('#df-e5671924-1883-4799-8b49-a7a0ad47ae1d button.colab-df-convert');\n",
              "        buttonEl.style.display =\n",
              "          google.colab.kernel.accessAllowed ? 'block' : 'none';\n",
              "\n",
              "        async function convertToInteractive(key) {\n",
              "          const element = document.querySelector('#df-e5671924-1883-4799-8b49-a7a0ad47ae1d');\n",
              "          const dataTable =\n",
              "            await google.colab.kernel.invokeFunction('convertToInteractive',\n",
              "                                                     [key], {});\n",
              "          if (!dataTable) return;\n",
              "\n",
              "          const docLinkHtml = 'Like what you see? Visit the ' +\n",
              "            '<a target=\"_blank\" href=https://colab.research.google.com/notebooks/data_table.ipynb>data table notebook</a>'\n",
              "            + ' to learn more about interactive tables.';\n",
              "          element.innerHTML = '';\n",
              "          dataTable['output_type'] = 'display_data';\n",
              "          await google.colab.output.renderOutput(dataTable, element);\n",
              "          const docLink = document.createElement('div');\n",
              "          docLink.innerHTML = docLinkHtml;\n",
              "          element.appendChild(docLink);\n",
              "        }\n",
              "      </script>\n",
              "    </div>\n",
              "  </div>\n",
              "  "
            ]
          },
          "metadata": {},
          "execution_count": 275
        }
      ]
    },
    {
      "cell_type": "code",
      "source": [
        "data['TOTAL'].mean()"
      ],
      "metadata": {
        "colab": {
          "base_uri": "https://localhost:8080/"
        },
        "id": "I7xKBud0r66n",
        "outputId": "9603787c-6222-49de-87ee-d76610d9a82b"
      },
      "execution_count": 276,
      "outputs": [
        {
          "output_type": "execute_result",
          "data": {
            "text/plain": [
              "1667.3260928961747"
            ]
          },
          "metadata": {},
          "execution_count": 276
        }
      ]
    },
    {
      "cell_type": "code",
      "source": [
        "df = data.iloc[:][['Log Date / Time','TOTAL']]\n",
        "df"
      ],
      "metadata": {
        "colab": {
          "base_uri": "https://localhost:8080/",
          "height": 423
        },
        "id": "tyS69vqEtX_4",
        "outputId": "9849c76d-c197-419f-8dcd-c0f66a1c424a"
      },
      "execution_count": 277,
      "outputs": [
        {
          "output_type": "execute_result",
          "data": {
            "text/plain": [
              "      Log Date / Time    TOTAL\n",
              "0    01-01-2020 00:00  1596.99\n",
              "1    02-01-2020 00:00  1543.49\n",
              "2    03-01-2020 00:00  1554.50\n",
              "3    04-01-2020 00:00  1443.81\n",
              "4    05-01-2020 00:00  1402.66\n",
              "..                ...      ...\n",
              "361  27-12-2020 00:00  1294.11\n",
              "362  28-12-2020 00:00  1318.12\n",
              "363  29-12-2020 00:00  1407.79\n",
              "364  30-12-2020 00:00  1370.79\n",
              "365  31-12-2020 00:00  1428.15\n",
              "\n",
              "[366 rows x 2 columns]"
            ],
            "text/html": [
              "\n",
              "  <div id=\"df-6d0b7ad1-537f-4ef7-989f-bb6eef5697a1\">\n",
              "    <div class=\"colab-df-container\">\n",
              "      <div>\n",
              "<style scoped>\n",
              "    .dataframe tbody tr th:only-of-type {\n",
              "        vertical-align: middle;\n",
              "    }\n",
              "\n",
              "    .dataframe tbody tr th {\n",
              "        vertical-align: top;\n",
              "    }\n",
              "\n",
              "    .dataframe thead th {\n",
              "        text-align: right;\n",
              "    }\n",
              "</style>\n",
              "<table border=\"1\" class=\"dataframe\">\n",
              "  <thead>\n",
              "    <tr style=\"text-align: right;\">\n",
              "      <th></th>\n",
              "      <th>Log Date / Time</th>\n",
              "      <th>TOTAL</th>\n",
              "    </tr>\n",
              "  </thead>\n",
              "  <tbody>\n",
              "    <tr>\n",
              "      <th>0</th>\n",
              "      <td>01-01-2020 00:00</td>\n",
              "      <td>1596.99</td>\n",
              "    </tr>\n",
              "    <tr>\n",
              "      <th>1</th>\n",
              "      <td>02-01-2020 00:00</td>\n",
              "      <td>1543.49</td>\n",
              "    </tr>\n",
              "    <tr>\n",
              "      <th>2</th>\n",
              "      <td>03-01-2020 00:00</td>\n",
              "      <td>1554.50</td>\n",
              "    </tr>\n",
              "    <tr>\n",
              "      <th>3</th>\n",
              "      <td>04-01-2020 00:00</td>\n",
              "      <td>1443.81</td>\n",
              "    </tr>\n",
              "    <tr>\n",
              "      <th>4</th>\n",
              "      <td>05-01-2020 00:00</td>\n",
              "      <td>1402.66</td>\n",
              "    </tr>\n",
              "    <tr>\n",
              "      <th>...</th>\n",
              "      <td>...</td>\n",
              "      <td>...</td>\n",
              "    </tr>\n",
              "    <tr>\n",
              "      <th>361</th>\n",
              "      <td>27-12-2020 00:00</td>\n",
              "      <td>1294.11</td>\n",
              "    </tr>\n",
              "    <tr>\n",
              "      <th>362</th>\n",
              "      <td>28-12-2020 00:00</td>\n",
              "      <td>1318.12</td>\n",
              "    </tr>\n",
              "    <tr>\n",
              "      <th>363</th>\n",
              "      <td>29-12-2020 00:00</td>\n",
              "      <td>1407.79</td>\n",
              "    </tr>\n",
              "    <tr>\n",
              "      <th>364</th>\n",
              "      <td>30-12-2020 00:00</td>\n",
              "      <td>1370.79</td>\n",
              "    </tr>\n",
              "    <tr>\n",
              "      <th>365</th>\n",
              "      <td>31-12-2020 00:00</td>\n",
              "      <td>1428.15</td>\n",
              "    </tr>\n",
              "  </tbody>\n",
              "</table>\n",
              "<p>366 rows × 2 columns</p>\n",
              "</div>\n",
              "      <button class=\"colab-df-convert\" onclick=\"convertToInteractive('df-6d0b7ad1-537f-4ef7-989f-bb6eef5697a1')\"\n",
              "              title=\"Convert this dataframe to an interactive table.\"\n",
              "              style=\"display:none;\">\n",
              "        \n",
              "  <svg xmlns=\"http://www.w3.org/2000/svg\" height=\"24px\"viewBox=\"0 0 24 24\"\n",
              "       width=\"24px\">\n",
              "    <path d=\"M0 0h24v24H0V0z\" fill=\"none\"/>\n",
              "    <path d=\"M18.56 5.44l.94 2.06.94-2.06 2.06-.94-2.06-.94-.94-2.06-.94 2.06-2.06.94zm-11 1L8.5 8.5l.94-2.06 2.06-.94-2.06-.94L8.5 2.5l-.94 2.06-2.06.94zm10 10l.94 2.06.94-2.06 2.06-.94-2.06-.94-.94-2.06-.94 2.06-2.06.94z\"/><path d=\"M17.41 7.96l-1.37-1.37c-.4-.4-.92-.59-1.43-.59-.52 0-1.04.2-1.43.59L10.3 9.45l-7.72 7.72c-.78.78-.78 2.05 0 2.83L4 21.41c.39.39.9.59 1.41.59.51 0 1.02-.2 1.41-.59l7.78-7.78 2.81-2.81c.8-.78.8-2.07 0-2.86zM5.41 20L4 18.59l7.72-7.72 1.47 1.35L5.41 20z\"/>\n",
              "  </svg>\n",
              "      </button>\n",
              "      \n",
              "  <style>\n",
              "    .colab-df-container {\n",
              "      display:flex;\n",
              "      flex-wrap:wrap;\n",
              "      gap: 12px;\n",
              "    }\n",
              "\n",
              "    .colab-df-convert {\n",
              "      background-color: #E8F0FE;\n",
              "      border: none;\n",
              "      border-radius: 50%;\n",
              "      cursor: pointer;\n",
              "      display: none;\n",
              "      fill: #1967D2;\n",
              "      height: 32px;\n",
              "      padding: 0 0 0 0;\n",
              "      width: 32px;\n",
              "    }\n",
              "\n",
              "    .colab-df-convert:hover {\n",
              "      background-color: #E2EBFA;\n",
              "      box-shadow: 0px 1px 2px rgba(60, 64, 67, 0.3), 0px 1px 3px 1px rgba(60, 64, 67, 0.15);\n",
              "      fill: #174EA6;\n",
              "    }\n",
              "\n",
              "    [theme=dark] .colab-df-convert {\n",
              "      background-color: #3B4455;\n",
              "      fill: #D2E3FC;\n",
              "    }\n",
              "\n",
              "    [theme=dark] .colab-df-convert:hover {\n",
              "      background-color: #434B5C;\n",
              "      box-shadow: 0px 1px 3px 1px rgba(0, 0, 0, 0.15);\n",
              "      filter: drop-shadow(0px 1px 2px rgba(0, 0, 0, 0.3));\n",
              "      fill: #FFFFFF;\n",
              "    }\n",
              "  </style>\n",
              "\n",
              "      <script>\n",
              "        const buttonEl =\n",
              "          document.querySelector('#df-6d0b7ad1-537f-4ef7-989f-bb6eef5697a1 button.colab-df-convert');\n",
              "        buttonEl.style.display =\n",
              "          google.colab.kernel.accessAllowed ? 'block' : 'none';\n",
              "\n",
              "        async function convertToInteractive(key) {\n",
              "          const element = document.querySelector('#df-6d0b7ad1-537f-4ef7-989f-bb6eef5697a1');\n",
              "          const dataTable =\n",
              "            await google.colab.kernel.invokeFunction('convertToInteractive',\n",
              "                                                     [key], {});\n",
              "          if (!dataTable) return;\n",
              "\n",
              "          const docLinkHtml = 'Like what you see? Visit the ' +\n",
              "            '<a target=\"_blank\" href=https://colab.research.google.com/notebooks/data_table.ipynb>data table notebook</a>'\n",
              "            + ' to learn more about interactive tables.';\n",
              "          element.innerHTML = '';\n",
              "          dataTable['output_type'] = 'display_data';\n",
              "          await google.colab.output.renderOutput(dataTable, element);\n",
              "          const docLink = document.createElement('div');\n",
              "          docLink.innerHTML = docLinkHtml;\n",
              "          element.appendChild(docLink);\n",
              "        }\n",
              "      </script>\n",
              "    </div>\n",
              "  </div>\n",
              "  "
            ]
          },
          "metadata": {},
          "execution_count": 277
        }
      ]
    },
    {
      "cell_type": "code",
      "source": [
        "df.plot()"
      ],
      "metadata": {
        "colab": {
          "base_uri": "https://localhost:8080/",
          "height": 282
        },
        "id": "Do0jNiUltuYz",
        "outputId": "05200031-bbef-410e-e687-5c7b4761ab7c"
      },
      "execution_count": 278,
      "outputs": [
        {
          "output_type": "execute_result",
          "data": {
            "text/plain": [
              "<matplotlib.axes._subplots.AxesSubplot at 0x7fe2c56eaac0>"
            ]
          },
          "metadata": {},
          "execution_count": 278
        },
        {
          "output_type": "display_data",
          "data": {
            "text/plain": [
              "<Figure size 432x288 with 1 Axes>"
            ],
            "image/png": "[encoded data removed]"
          },
          "metadata": {
            "needs_background": "light"
          }
        }
      ]
    },
    {
      "cell_type": "code",
      "source": [
        "df = df[df['TOTAL'] > 1000]\n",
        "df = df[df['TOTAL'] < 2000]\n",
        "df.to_csv('filtered_data.csv', index=False)"
      ],
      "metadata": {
        "id": "xtmWtwvrUg5g"
      },
      "execution_count": 279,
      "outputs": []
    },
    {
      "cell_type": "code",
      "source": [
        "df"
      ],
      "metadata": {
        "colab": {
          "base_uri": "https://localhost:8080/",
          "height": 423
        },
        "id": "Z7-qE-yfvD5R",
        "outputId": "199e6584-bc2e-4868-812c-10918a5a4855"
      },
      "execution_count": 280,
      "outputs": [
        {
          "output_type": "execute_result",
          "data": {
            "text/plain": [
              "      Log Date / Time    TOTAL\n",
              "0    01-01-2020 00:00  1596.99\n",
              "1    02-01-2020 00:00  1543.49\n",
              "2    03-01-2020 00:00  1554.50\n",
              "3    04-01-2020 00:00  1443.81\n",
              "4    05-01-2020 00:00  1402.66\n",
              "..                ...      ...\n",
              "361  27-12-2020 00:00  1294.11\n",
              "362  28-12-2020 00:00  1318.12\n",
              "363  29-12-2020 00:00  1407.79\n",
              "364  30-12-2020 00:00  1370.79\n",
              "365  31-12-2020 00:00  1428.15\n",
              "\n",
              "[288 rows x 2 columns]"
            ],
            "text/html": [
              "\n",
              "  <div id=\"df-590f7b0d-d35f-4113-8ff5-43e8769bddc5\">\n",
              "    <div class=\"colab-df-container\">\n",
              "      <div>\n",
              "<style scoped>\n",
              "    .dataframe tbody tr th:only-of-type {\n",
              "        vertical-align: middle;\n",
              "    }\n",
              "\n",
              "    .dataframe tbody tr th {\n",
              "        vertical-align: top;\n",
              "    }\n",
              "\n",
              "    .dataframe thead th {\n",
              "        text-align: right;\n",
              "    }\n",
              "</style>\n",
              "<table border=\"1\" class=\"dataframe\">\n",
              "  <thead>\n",
              "    <tr style=\"text-align: right;\">\n",
              "      <th></th>\n",
              "      <th>Log Date / Time</th>\n",
              "      <th>TOTAL</th>\n",
              "    </tr>\n",
              "  </thead>\n",
              "  <tbody>\n",
              "    <tr>\n",
              "      <th>0</th>\n",
              "      <td>01-01-2020 00:00</td>\n",
              "      <td>1596.99</td>\n",
              "    </tr>\n",
              "    <tr>\n",
              "      <th>1</th>\n",
              "      <td>02-01-2020 00:00</td>\n",
              "      <td>1543.49</td>\n",
              "    </tr>\n",
              "    <tr>\n",
              "      <th>2</th>\n",
              "      <td>03-01-2020 00:00</td>\n",
              "      <td>1554.50</td>\n",
              "    </tr>\n",
              "    <tr>\n",
              "      <th>3</th>\n",
              "      <td>04-01-2020 00:00</td>\n",
              "      <td>1443.81</td>\n",
              "    </tr>\n",
              "    <tr>\n",
              "      <th>4</th>\n",
              "      <td>05-01-2020 00:00</td>\n",
              "      <td>1402.66</td>\n",
              "    </tr>\n",
              "    <tr>\n",
              "      <th>...</th>\n",
              "      <td>...</td>\n",
              "      <td>...</td>\n",
              "    </tr>\n",
              "    <tr>\n",
              "      <th>361</th>\n",
              "      <td>27-12-2020 00:00</td>\n",
              "      <td>1294.11</td>\n",
              "    </tr>\n",
              "    <tr>\n",
              "      <th>362</th>\n",
              "      <td>28-12-2020 00:00</td>\n",
              "      <td>1318.12</td>\n",
              "    </tr>\n",
              "    <tr>\n",
              "      <th>363</th>\n",
              "      <td>29-12-2020 00:00</td>\n",
              "      <td>1407.79</td>\n",
              "    </tr>\n",
              "    <tr>\n",
              "      <th>364</th>\n",
              "      <td>30-12-2020 00:00</td>\n",
              "      <td>1370.79</td>\n",
              "    </tr>\n",
              "    <tr>\n",
              "      <th>365</th>\n",
              "      <td>31-12-2020 00:00</td>\n",
              "      <td>1428.15</td>\n",
              "    </tr>\n",
              "  </tbody>\n",
              "</table>\n",
              "<p>288 rows × 2 columns</p>\n",
              "</div>\n",
              "      <button class=\"colab-df-convert\" onclick=\"convertToInteractive('df-590f7b0d-d35f-4113-8ff5-43e8769bddc5')\"\n",
              "              title=\"Convert this dataframe to an interactive table.\"\n",
              "              style=\"display:none;\">\n",
              "        \n",
              "  <svg xmlns=\"http://www.w3.org/2000/svg\" height=\"24px\"viewBox=\"0 0 24 24\"\n",
              "       width=\"24px\">\n",
              "    <path d=\"M0 0h24v24H0V0z\" fill=\"none\"/>\n",
              "    <path d=\"M18.56 5.44l.94 2.06.94-2.06 2.06-.94-2.06-.94-.94-2.06-.94 2.06-2.06.94zm-11 1L8.5 8.5l.94-2.06 2.06-.94-2.06-.94L8.5 2.5l-.94 2.06-2.06.94zm10 10l.94 2.06.94-2.06 2.06-.94-2.06-.94-.94-2.06-.94 2.06-2.06.94z\"/><path d=\"M17.41 7.96l-1.37-1.37c-.4-.4-.92-.59-1.43-.59-.52 0-1.04.2-1.43.59L10.3 9.45l-7.72 7.72c-.78.78-.78 2.05 0 2.83L4 21.41c.39.39.9.59 1.41.59.51 0 1.02-.2 1.41-.59l7.78-7.78 2.81-2.81c.8-.78.8-2.07 0-2.86zM5.41 20L4 18.59l7.72-7.72 1.47 1.35L5.41 20z\"/>\n",
              "  </svg>\n",
              "      </button>\n",
              "      \n",
              "  <style>\n",
              "    .colab-df-container {\n",
              "      display:flex;\n",
              "      flex-wrap:wrap;\n",
              "      gap: 12px;\n",
              "    }\n",
              "\n",
              "    .colab-df-convert {\n",
              "      background-color: #E8F0FE;\n",
              "      border: none;\n",
              "      border-radius: 50%;\n",
              "      cursor: pointer;\n",
              "      display: none;\n",
              "      fill: #1967D2;\n",
              "      height: 32px;\n",
              "      padding: 0 0 0 0;\n",
              "      width: 32px;\n",
              "    }\n",
              "\n",
              "    .colab-df-convert:hover {\n",
              "      background-color: #E2EBFA;\n",
              "      box-shadow: 0px 1px 2px rgba(60, 64, 67, 0.3), 0px 1px 3px 1px rgba(60, 64, 67, 0.15);\n",
              "      fill: #174EA6;\n",
              "    }\n",
              "\n",
              "    [theme=dark] .colab-df-convert {\n",
              "      background-color: #3B4455;\n",
              "      fill: #D2E3FC;\n",
              "    }\n",
              "\n",
              "    [theme=dark] .colab-df-convert:hover {\n",
              "      background-color: #434B5C;\n",
              "      box-shadow: 0px 1px 3px 1px rgba(0, 0, 0, 0.15);\n",
              "      filter: drop-shadow(0px 1px 2px rgba(0, 0, 0, 0.3));\n",
              "      fill: #FFFFFF;\n",
              "    }\n",
              "  </style>\n",
              "\n",
              "      <script>\n",
              "        const buttonEl =\n",
              "          document.querySelector('#df-590f7b0d-d35f-4113-8ff5-43e8769bddc5 button.colab-df-convert');\n",
              "        buttonEl.style.display =\n",
              "          google.colab.kernel.accessAllowed ? 'block' : 'none';\n",
              "\n",
              "        async function convertToInteractive(key) {\n",
              "          const element = document.querySelector('#df-590f7b0d-d35f-4113-8ff5-43e8769bddc5');\n",
              "          const dataTable =\n",
              "            await google.colab.kernel.invokeFunction('convertToInteractive',\n",
              "                                                     [key], {});\n",
              "          if (!dataTable) return;\n",
              "\n",
              "          const docLinkHtml = 'Like what you see? Visit the ' +\n",
              "            '<a target=\"_blank\" href=https://colab.research.google.com/notebooks/data_table.ipynb>data table notebook</a>'\n",
              "            + ' to learn more about interactive tables.';\n",
              "          element.innerHTML = '';\n",
              "          dataTable['output_type'] = 'display_data';\n",
              "          await google.colab.output.renderOutput(dataTable, element);\n",
              "          const docLink = document.createElement('div');\n",
              "          docLink.innerHTML = docLinkHtml;\n",
              "          element.appendChild(docLink);\n",
              "        }\n",
              "      </script>\n",
              "    </div>\n",
              "  </div>\n",
              "  "
            ]
          },
          "metadata": {},
          "execution_count": 280
        }
      ]
    },
    {
      "cell_type": "code",
      "source": [
        "df.plot()"
      ],
      "metadata": {
        "colab": {
          "base_uri": "https://localhost:8080/",
          "height": 282
        },
        "id": "jxQUJYbftx6h",
        "outputId": "e0dad691-d774-4da9-d14d-934c764ea66c"
      },
      "execution_count": 281,
      "outputs": [
        {
          "output_type": "execute_result",
          "data": {
            "text/plain": [
              "<matplotlib.axes._subplots.AxesSubplot at 0x7fe2c436bf70>"
            ]
          },
          "metadata": {},
          "execution_count": 281
        },
        {
          "output_type": "display_data",
          "data": {
            "text/plain": [
              "<Figure size 432x288 with 1 Axes>"
            ],
            "image/png": "[encoded data removed]"
          },
          "metadata": {
            "needs_background": "light"
          }
        }
      ]
    },
    {
      "cell_type": "code",
      "source": [
        "train = df[:int(len(df)*0.8)]\n",
        "test = df[int(len(df)*0.8):]"
      ],
      "metadata": {
        "id": "S86_MV9XwIOh"
      },
      "execution_count": 282,
      "outputs": []
    },
    {
      "cell_type": "markdown",
      "source": [
        "# ARMA"
      ],
      "metadata": {
        "id": "6VqbWakbvF1W"
      }
    },
    {
      "cell_type": "code",
      "source": [
        "array_data = np.array(df['TOTAL'])\n",
        "print(array_data)"
      ],
      "metadata": {
        "colab": {
          "base_uri": "https://localhost:8080/"
        },
        "id": "8rDbtj8S-Lh4",
        "outputId": "1e845a1e-d9dc-4a29-88b7-cfc0b8735150"
      },
      "execution_count": 283,
      "outputs": [
        {
          "output_type": "stream",
          "name": "stdout",
          "text": [
            "[1596.99 1543.49 1554.5  1443.81 1402.66 1591.45 1557.29 1596.69 1784.1\n",
            " 1951.24 1770.16 1656.75 1603.73 1644.14 1536.45 1575.19 1441.82 1711.31\n",
            " 1536.72 1568.23 1520.52 1457.91 1557.59 1530.99 1559.82 1694.64 1685.27\n",
            " 1648.17 1643.73 1715.69 1719.68 1639.89 1603.35 1590.14 1874.87 1586.6\n",
            " 1539.53 1481.5  1412.26 1579.14 1715.   1629.03 1530.81 1807.69 1628.56\n",
            " 1630.61 1737.62 1768.91 1847.45 1765.75 1695.67 1612.76 1587.29 1634.34\n",
            " 1608.22 1761.79 1708.87 1819.12 1733.42 1605.52 1811.78 1882.43 1986.89\n",
            " 1645.92 1585.95 1512.24 1446.66 1565.17 1663.08 1698.05 1630.54 1519.33\n",
            " 1598.81 1533.95 1553.64 1542.08 1496.74 1405.53 1415.66 1054.53 1356.65\n",
            " 1374.49 1420.54 1398.04 1402.35 1435.9  1443.09 1464.33 1436.83 1434.17\n",
            " 1435.49 1454.14 1461.8  1453.74 1505.13 1483.37 1477.15 1498.9  1533.44\n",
            " 1565.79 1507.14 1543.91 1563.31 1579.21 1619.06 1564.11 1524.02 1484.1\n",
            " 1499.48 1493.35 1486.32 1471.59 1505.27 1490.66 1445.67 1508.17 1487.53\n",
            " 1446.3  1469.24 1534.25 1497.21 1525.3  1495.42 1500.63 1490.25 1521.61\n",
            " 1599.46 1640.71 1635.3  1681.4  1574.55 1710.56 1738.12 1646.79 1493.36\n",
            " 1581.97 1570.77 1688.1  1733.48 1912.81 1717.39 1494.2  1490.95 1238.43\n",
            " 1136.3  1966.6  1898.54 1546.73 1422.2  1608.55 1603.02 1651.65 1448.94\n",
            " 1511.45 1429.17 1449.86 1571.87 1696.4  1625.08 1991.33 1534.26 1438.13\n",
            " 1991.1  1922.01 1787.6  1536.42 1509.84 1390.79 1461.74 1519.52 1560.44\n",
            " 1682.42 1672.12 1509.96 1364.53 1452.79 1647.37 1752.25 1631.85 1598.77\n",
            " 1536.03 1558.24 1961.76 1617.55 1763.56 1544.81 1596.64 1470.4  1504.02\n",
            " 1888.66 1985.35 1642.5  1451.82 1789.94 1624.19 1401.17 1324.86 1281.81\n",
            " 1661.78 1598.15 1595.58 1525.94 1551.5  1459.95 1442.74 1677.11 1773.65\n",
            " 1740.19 1028.33 1354.19 1891.21 1796.34 1313.44 1333.9  1770.25 1576.83\n",
            " 1424.31 1645.48 1587.42 1656.59 1554.66 1442.68 1339.32 1697.15 1611.37\n",
            " 1584.13 1520.03 1368.68 1325.   1354.66 1501.14 1296.97 1429.52 1497.57\n",
            " 1453.02 1323.19 1345.42 1443.56 1393.58 1420.26 1428.97 1408.69 1273.55\n",
            " 1294.2  1377.89 1408.66 1427.49 1382.41 1407.5  1341.55 1263.31 1460.86\n",
            " 1518.74 1563.24 1589.48 1527.19 1435.3  1396.49 1395.42 1460.16 1488.25\n",
            " 1435.79 1452.21 1306.1  1275.08 1415.14 1485.69 1509.24 1586.12 1239.61\n",
            " 1580.9  1586.19 1637.87 1405.08 1389.62 1422.16 1477.37 1554.58 1503.89\n",
            " 1530.4  1461.4  1338.57 1244.13 1294.11 1318.12 1407.79 1370.79 1428.15]\n"
          ]
        }
      ]
    },
    {
      "cell_type": "code",
      "source": [
        "xtrain = array_data[:len(array_data)-8]\n",
        "xtest = array_data[len(array_data)-8:]"
      ],
      "metadata": {
        "id": "vfEqZO26wxs0"
      },
      "execution_count": 284,
      "outputs": []
    },
    {
      "cell_type": "code",
      "source": [
        "from statsmodels.tsa.stattools import adfuller\n",
        "\n",
        "dftest = adfuller(df['TOTAL'], autolag = 'AIC')\n",
        "\n",
        "print(\"1. ADF : \",dftest[0])\n",
        "print(\"2. P-value : \",dftest[1])\n",
        "print(\"3. No. of lags : \",dftest[2])\n",
        "print(\"4. No. of observation used for ADF regression and critical value calculation : \",dftest[3])\n",
        "print(\"5. Critical Values : \")\n",
        "for key, val in dftest[4].items():\n",
        "  print(\"\\t\",key,\":\",val)"
      ],
      "metadata": {
        "colab": {
          "base_uri": "https://localhost:8080/"
        },
        "id": "i58gkMxKvIQq",
        "outputId": "ae9ccdc8-c029-46fe-ae01-f63ef7cd80ca"
      },
      "execution_count": 285,
      "outputs": [
        {
          "output_type": "stream",
          "name": "stdout",
          "text": [
            "1. ADF :  -2.0362377371917364\n",
            "2. P-value :  0.27091353345993396\n",
            "3. No. of lags :  15\n",
            "4. No. of observation used for ADF regression and critical value calculation :  272\n",
            "5. Critical Values : \n",
            "\t 1% : -3.4546223782586534\n",
            "\t 5% : -2.8722253212300277\n",
            "\t 10% : -2.5724638500216264\n"
          ]
        }
      ]
    },
    {
      "cell_type": "code",
      "source": [
        "from statsmodels.graphics.tsaplots import plot_pacf,plot_acf\n",
        "\n",
        "pacf = plot_pacf(df['TOTAL'],lags = 25)"
      ],
      "metadata": {
        "colab": {
          "base_uri": "https://localhost:8080/",
          "height": 281
        },
        "id": "7nqp0_lBzr1d",
        "outputId": "f048586a-c13f-48aa-d7a6-799b0fcb84f4"
      },
      "execution_count": 286,
      "outputs": [
        {
          "output_type": "display_data",
          "data": {
            "text/plain": [
              "<Figure size 432x288 with 1 Axes>"
            ],
            "image/png": "[encoded data removed]"
          },
          "metadata": {
            "needs_background": "light"
          }
        }
      ]
    },
    {
      "cell_type": "code",
      "source": [
        "Amodel = AutoReg(xtrain,lags = 8).fit()\n"
      ],
      "metadata": {
        "id": "r0b9r7_Ovb0a"
      },
      "execution_count": 287,
      "outputs": []
    },
    {
      "cell_type": "code",
      "source": [
        "print(Amodel.summary())"
      ],
      "metadata": {
        "colab": {
          "base_uri": "https://localhost:8080/"
        },
        "id": "FQt3oRz-xCJM",
        "outputId": "798bf237-d521-4c81-9e86-2fe4c24d12de"
      },
      "execution_count": 288,
      "outputs": [
        {
          "output_type": "stream",
          "name": "stdout",
          "text": [
            "                            AutoReg Model Results                             \n",
            "==============================================================================\n",
            "Dep. Variable:                      y   No. Observations:                  280\n",
            "Model:                     AutoReg(8)   Log Likelihood               -1709.821\n",
            "Method:               Conditional MLE   S.D. of innovations            129.953\n",
            "Date:                Wed, 15 Feb 2023   AIC                              9.808\n",
            "Time:                        17:00:12   BIC                              9.940\n",
            "Sample:                             8   HQIC                             9.861\n",
            "                                  280                                         \n",
            "==============================================================================\n",
            "                 coef    std err          z      P>|z|      [0.025      0.975]\n",
            "------------------------------------------------------------------------------\n",
            "intercept    411.5021    126.187      3.261      0.001     164.181     658.824\n",
            "y.L1           0.5104      0.061      8.425      0.000       0.392       0.629\n",
            "y.L2          -0.1835      0.068     -2.711      0.007      -0.316      -0.051\n",
            "y.L3           0.0525      0.068      0.767      0.443      -0.082       0.187\n",
            "y.L4           0.1503      0.068      2.196      0.028       0.016       0.284\n",
            "y.L5           0.0224      0.068      0.327      0.744      -0.112       0.157\n",
            "y.L6           0.0457      0.068      0.668      0.504      -0.088       0.180\n",
            "y.L7           0.1036      0.068      1.531      0.126      -0.029       0.236\n",
            "y.L8           0.0333      0.061      0.548      0.583      -0.086       0.152\n",
            "                                    Roots                                    \n",
            "=============================================================================\n",
            "                  Real          Imaginary           Modulus         Frequency\n",
            "-----------------------------------------------------------------------------\n",
            "AR.1            1.0944           -0.0000j            1.0944           -0.0000\n",
            "AR.2            0.8270           -1.0250j            1.3170           -0.1419\n",
            "AR.3            0.8270           +1.0250j            1.3170            0.1419\n",
            "AR.4           -0.0391           -1.3317j            1.3323           -0.2547\n",
            "AR.5           -0.0391           +1.3317j            1.3323            0.2547\n",
            "AR.6           -1.5941           -0.9468j            1.8540           -0.4147\n",
            "AR.7           -1.5941           +0.9468j            1.8540            0.4147\n",
            "AR.8           -2.5941           -0.0000j            2.5941           -0.5000\n",
            "-----------------------------------------------------------------------------\n"
          ]
        }
      ]
    },
    {
      "cell_type": "code",
      "source": [
        "pred_arma = Amodel.predict(start = len(xtrain), end =len(array_data)-1, dynamic = False)"
      ],
      "metadata": {
        "id": "QbA7PJh6xNtU"
      },
      "execution_count": 289,
      "outputs": []
    },
    {
      "cell_type": "code",
      "source": [
        "plt.plot(pred_arma, label=\"Predicted Data\")\n",
        "plt.plot(xtest,color = 'red', label=\"Test Data\")\n",
        "plt.legend(loc=\"best\")\n",
        "plt.show()"
      ],
      "metadata": {
        "colab": {
          "base_uri": "https://localhost:8080/",
          "height": 265
        },
        "id": "PL3yV8RExU-X",
        "outputId": "b946dcaf-81e8-4a20-b572-e9a77861626a"
      },
      "execution_count": 290,
      "outputs": [
        {
          "output_type": "display_data",
          "data": {
            "text/plain": [
              "<Figure size 432x288 with 1 Axes>"
            ],
            "image/png": "[encoded data removed]"
          },
          "metadata": {
            "needs_background": "light"
          }
        }
      ]
    },
    {
      "cell_type": "code",
      "source": [
        "rmse_arma = sqrt(mean_squared_error(xtest,pred_arma))\n",
        "rmse_arma"
      ],
      "metadata": {
        "colab": {
          "base_uri": "https://localhost:8080/"
        },
        "id": "Jumya6jmyxR0",
        "outputId": "f0625e61-a8db-41c6-f6e4-b88b5e6aa894"
      },
      "execution_count": 291,
      "outputs": [
        {
          "output_type": "execute_result",
          "data": {
            "text/plain": [
              "174.3937435376214"
            ]
          },
          "metadata": {},
          "execution_count": 291
        }
      ]
    },
    {
      "cell_type": "code",
      "source": [
        "error_percent_arma = 100 * rmse_arma/ np.mean(test[\"TOTAL\"])\n",
        "error_percent_arma"
      ],
      "metadata": {
        "colab": {
          "base_uri": "https://localhost:8080/"
        },
        "id": "ZqrAU2Al057H",
        "outputId": "332341a6-7a60-4d1c-9ef4-224369d1d498"
      },
      "execution_count": 292,
      "outputs": [
        {
          "output_type": "execute_result",
          "data": {
            "text/plain": [
              "12.244130621474433"
            ]
          },
          "metadata": {},
          "execution_count": 292
        }
      ]
    },
    {
      "cell_type": "markdown",
      "source": [
        "## ARIMA"
      ],
      "metadata": {
        "id": "Gx-Zq6N4w_Fp"
      }
    },
    {
      "cell_type": "code",
      "source": [
        "model_arima = ARIMA(train[\"TOTAL\"], order=(2,1,2))\n",
        "model_arima = model_arima.fit()\n",
        "predictions_arima = model_arima.predict(start=len(train), end=len(train)+len(test)-1, typ=\"levels\")"
      ],
      "metadata": {
        "id": "3fmr3daNWV79"
      },
      "execution_count": 293,
      "outputs": []
    },
    {
      "cell_type": "code",
      "source": [
        "predictions_arima"
      ],
      "metadata": {
        "colab": {
          "base_uri": "https://localhost:8080/"
        },
        "id": "g-z0XyonWZBW",
        "outputId": "e9416b7b-cd1e-440e-d123-601e5c86975d"
      },
      "execution_count": 294,
      "outputs": [
        {
          "output_type": "execute_result",
          "data": {
            "text/plain": [
              "230    1478.496051\n",
              "231    1521.548979\n",
              "232    1507.078068\n",
              "233    1492.610563\n",
              "234    1491.276699\n",
              "235    1494.152026\n",
              "236    1495.378226\n",
              "237    1495.114852\n",
              "238    1494.750490\n",
              "239    1494.693821\n",
              "240    1494.758840\n",
              "241    1494.792618\n",
              "242    1494.788602\n",
              "243    1494.779604\n",
              "244    1494.777636\n",
              "245    1494.779060\n",
              "246    1494.779965\n",
              "247    1494.779930\n",
              "248    1494.779712\n",
              "249    1494.779651\n",
              "250    1494.779680\n",
              "251    1494.779704\n",
              "252    1494.779705\n",
              "253    1494.779700\n",
              "254    1494.779698\n",
              "255    1494.779699\n",
              "256    1494.779699\n",
              "257    1494.779699\n",
              "258    1494.779699\n",
              "259    1494.779699\n",
              "260    1494.779699\n",
              "261    1494.779699\n",
              "262    1494.779699\n",
              "263    1494.779699\n",
              "264    1494.779699\n",
              "265    1494.779699\n",
              "266    1494.779699\n",
              "267    1494.779699\n",
              "268    1494.779699\n",
              "269    1494.779699\n",
              "270    1494.779699\n",
              "271    1494.779699\n",
              "272    1494.779699\n",
              "273    1494.779699\n",
              "274    1494.779699\n",
              "275    1494.779699\n",
              "276    1494.779699\n",
              "277    1494.779699\n",
              "278    1494.779699\n",
              "279    1494.779699\n",
              "280    1494.779699\n",
              "281    1494.779699\n",
              "282    1494.779699\n",
              "283    1494.779699\n",
              "284    1494.779699\n",
              "285    1494.779699\n",
              "286    1494.779699\n",
              "287    1494.779699\n",
              "Name: predicted_mean, dtype: float64"
            ]
          },
          "metadata": {},
          "execution_count": 294
        }
      ]
    },
    {
      "cell_type": "code",
      "source": [
        "predictions_arima.plot()"
      ],
      "metadata": {
        "colab": {
          "base_uri": "https://localhost:8080/",
          "height": 282
        },
        "id": "XDrn1nvc2ZPe",
        "outputId": "479483d6-dd97-45ab-9803-85c8ee3424d7"
      },
      "execution_count": 295,
      "outputs": [
        {
          "output_type": "execute_result",
          "data": {
            "text/plain": [
              "<matplotlib.axes._subplots.AxesSubplot at 0x7fe2c56798e0>"
            ]
          },
          "metadata": {},
          "execution_count": 295
        },
        {
          "output_type": "display_data",
          "data": {
            "text/plain": [
              "<Figure size 432x288 with 1 Axes>"
            ],
            "image/png": "[encoded data removed]"
          },
          "metadata": {
            "needs_background": "light"
          }
        }
      ]
    },
    {
      "cell_type": "code",
      "source": [
        "plt.plot(predictions_arima, label=\"Predicted Data\")\n",
        "plt.plot(array_data,color = 'red', label=\"Actual Data\")\n",
        "plt.legend(loc=\"best\")\n",
        "plt.show()"
      ],
      "metadata": {
        "colab": {
          "base_uri": "https://localhost:8080/",
          "height": 265
        },
        "id": "c34BI2R7-kvX",
        "outputId": "2e466aa7-97e2-4b6a-d50b-d33be9f2661c"
      },
      "execution_count": 296,
      "outputs": [
        {
          "output_type": "display_data",
          "data": {
            "text/plain": [
              "<Figure size 432x288 with 1 Axes>"
            ],
            "image/png": "[encoded data removed]"
          },
          "metadata": {
            "needs_background": "light"
          }
        }
      ]
    },
    {
      "cell_type": "code",
      "source": [
        "mse_arima = mean_squared_error(test[\"TOTAL\"], predictions_arima)\n",
        "rmse_arima = np.sqrt(mse_arima)\n",
        "rmse_arima"
      ],
      "metadata": {
        "colab": {
          "base_uri": "https://localhost:8080/"
        },
        "id": "-F65em6HW-CV",
        "outputId": "8015eae9-b459-4bdb-d8f7-de1a90bf45ba"
      },
      "execution_count": 297,
      "outputs": [
        {
          "output_type": "execute_result",
          "data": {
            "text/plain": [
              "118.57463833469494"
            ]
          },
          "metadata": {},
          "execution_count": 297
        }
      ]
    },
    {
      "cell_type": "code",
      "source": [
        "error_percent_arima = 100 * rmse_arima / np.mean(test[\"TOTAL\"])\n",
        "error_percent_arima"
      ],
      "metadata": {
        "id": "sTRov8y8LsdP",
        "colab": {
          "base_uri": "https://localhost:8080/"
        },
        "outputId": "94376da7-6771-41b6-fd83-34fc44ee4869"
      },
      "execution_count": 298,
      "outputs": [
        {
          "output_type": "execute_result",
          "data": {
            "text/plain": [
              "8.325088565180627"
            ]
          },
          "metadata": {},
          "execution_count": 298
        }
      ]
    },
    {
      "cell_type": "markdown",
      "source": [
        "## SARIMA"
      ],
      "metadata": {
        "id": "YH7DUoPf0y0C"
      }
    },
    {
      "cell_type": "code",
      "source": [
        "model_sarima = SARIMAX(train[\"TOTAL\"], order=(2, 1, 2), seasonal_order=(0, 1, 1, 7))\n",
        "model_sarima_fit = model_sarima.fit()\n",
        "sarima_prediction = model_sarima_fit.forecast(steps=len(test))"
      ],
      "metadata": {
        "id": "IGsjhSQ4X38m"
      },
      "execution_count": 299,
      "outputs": []
    },
    {
      "cell_type": "code",
      "source": [
        "sarima_prediction"
      ],
      "metadata": {
        "colab": {
          "base_uri": "https://localhost:8080/"
        },
        "id": "AM5LhreeUgF2",
        "outputId": "4379f105-db7a-471f-ff07-7dfa40e7dff2"
      },
      "execution_count": 300,
      "outputs": [
        {
          "output_type": "execute_result",
          "data": {
            "text/plain": [
              "230    1489.113710\n",
              "231    1520.105578\n",
              "232    1512.337146\n",
              "233    1483.740737\n",
              "234    1458.064515\n",
              "235    1480.594576\n",
              "236    1481.150624\n",
              "237    1496.884040\n",
              "238    1488.880167\n",
              "239    1497.426422\n",
              "240    1483.758851\n",
              "241    1458.985348\n",
              "242    1478.149168\n",
              "243    1477.377580\n",
              "244    1493.500662\n",
              "245    1485.950575\n",
              "246    1494.550338\n",
              "247    1480.789011\n",
              "248    1455.971571\n",
              "249    1475.143957\n",
              "250    1474.385964\n",
              "251    1490.511411\n",
              "252    1482.958766\n",
              "253    1491.557108\n",
              "254    1477.795942\n",
              "255    1452.978903\n",
              "256    1472.151382\n",
              "257    1471.393321\n",
              "258    1487.518723\n",
              "259    1479.966080\n",
              "260    1488.564434\n",
              "261    1474.803271\n",
              "262    1449.986230\n",
              "263    1469.158707\n",
              "264    1468.400646\n",
              "265    1484.526049\n",
              "266    1476.973406\n",
              "267    1485.571760\n",
              "268    1471.810597\n",
              "269    1446.993556\n",
              "270    1466.166033\n",
              "271    1465.407972\n",
              "272    1481.533375\n",
              "273    1473.980732\n",
              "274    1482.579086\n",
              "275    1468.817922\n",
              "276    1444.000882\n",
              "277    1463.173359\n",
              "278    1462.415298\n",
              "279    1478.540701\n",
              "280    1470.988057\n",
              "281    1479.586411\n",
              "282    1465.825248\n",
              "283    1441.008208\n",
              "284    1460.180685\n",
              "285    1459.422624\n",
              "286    1475.548026\n",
              "287    1467.995383\n",
              "Name: predicted_mean, dtype: float64"
            ]
          },
          "metadata": {},
          "execution_count": 300
        }
      ]
    },
    {
      "cell_type": "code",
      "source": [
        "sarima_prediction.plot()"
      ],
      "metadata": {
        "colab": {
          "base_uri": "https://localhost:8080/",
          "height": 282
        },
        "id": "1bcQS-OO809z",
        "outputId": "71a070cd-860e-4c6a-e39b-bef08e542199"
      },
      "execution_count": 301,
      "outputs": [
        {
          "output_type": "execute_result",
          "data": {
            "text/plain": [
              "<matplotlib.axes._subplots.AxesSubplot at 0x7fe2c5673220>"
            ]
          },
          "metadata": {},
          "execution_count": 301
        },
        {
          "output_type": "display_data",
          "data": {
            "text/plain": [
              "<Figure size 432x288 with 1 Axes>"
            ],
            "image/png": "[encoded data removed]"
          },
          "metadata": {
            "needs_background": "light"
          }
        }
      ]
    },
    {
      "cell_type": "code",
      "source": [
        "plt.plot(sarima_prediction, label=\"Predicted Data\")\n",
        "plt.plot(array_data,color = 'red', label=\"Actual Data\")\n",
        "plt.legend(loc=\"best\")\n",
        "plt.show()"
      ],
      "metadata": {
        "colab": {
          "base_uri": "https://localhost:8080/",
          "height": 265
        },
        "id": "ArEsxPVH_pqb",
        "outputId": "6c6c6dfc-670a-4d52-9db4-221d1a0a975a"
      },
      "execution_count": 302,
      "outputs": [
        {
          "output_type": "display_data",
          "data": {
            "text/plain": [
              "<Figure size 432x288 with 1 Axes>"
            ],
            "image/png": "[encoded data removed]"
          },
          "metadata": {
            "needs_background": "light"
          }
        }
      ]
    },
    {
      "cell_type": "code",
      "source": [
        "sarima_rmse = sqrt(mean_squared_error(test[\"TOTAL\"], sarima_prediction))\n",
        "sarima_rmse\n"
      ],
      "metadata": {
        "id": "FNVIG3lSN2wt",
        "colab": {
          "base_uri": "https://localhost:8080/"
        },
        "outputId": "8d2dc08b-8eec-4bb7-a3c9-97974ba9edac"
      },
      "execution_count": 303,
      "outputs": [
        {
          "output_type": "execute_result",
          "data": {
            "text/plain": [
              "107.73423409824049"
            ]
          },
          "metadata": {},
          "execution_count": 303
        }
      ]
    },
    {
      "cell_type": "code",
      "source": [
        "error_percent_sarima = 100 * sarima_rmse / np.mean(test[\"TOTAL\"])\n",
        "error_percent_sarima"
      ],
      "metadata": {
        "colab": {
          "base_uri": "https://localhost:8080/"
        },
        "id": "-LcYa-zSUnDu",
        "outputId": "4d6f3adf-6d41-4196-8bc9-4719c9e57229"
      },
      "execution_count": 304,
      "outputs": [
        {
          "output_type": "execute_result",
          "data": {
            "text/plain": [
              "7.5639871473875075"
            ]
          },
          "metadata": {},
          "execution_count": 304
        }
      ]
    }
  ]
}