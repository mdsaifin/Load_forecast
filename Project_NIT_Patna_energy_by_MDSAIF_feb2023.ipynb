{
  "nbformat": 4,
  "nbformat_minor": 0,
  "metadata": {
    "colab": {
      "provenance": [],
      "authorship_tag": "ABX9TyNZyC9qNVcUkrl1MH8hh4Um",
      "include_colab_link": true
    },
    "kernelspec": {
      "name": "python3",
      "display_name": "Python 3"
    },
    "language_info": {
      "name": "python"
    }
  },
  "cells": [
    {
      "cell_type": "markdown",
      "metadata": {
        "id": "view-in-github",
        "colab_type": "text"
      },
      "source": [
        "<a href=\"https://colab.research.google.com/github/mdsaifin/Load_forecast/blob/main/Project_NIT_Patna_energy_by_MDSAIF_feb2023.ipynb\" target=\"_parent\"><img src=\"https://colab.research.google.com/assets/colab-badge.svg\" alt=\"Open In Colab\"/></a>"
      ]
    },
    {
      "cell_type": "markdown",
      "source": [
        "#**NIT Patna Energy Load Prediction**\n",
        "\n",
        "---\n",
        "\n",
        "\n",
        "\n"
      ],
      "metadata": {
        "id": "DiwWJNMedFZW"
      }
    },
    {
      "cell_type": "code",
      "execution_count": 19,
      "metadata": {
        "id": "FBS8wjc-ToNv"
      },
      "outputs": [],
      "source": [
        "#NIT Patna Energy Load Prediction\n",
        "#By SARIMA Model\n",
        "#Written by MD SAIF\n",
        "#date of starting : 2 Feb 2023\n",
        "#date of completion : 6 Feb 2023\n",
        "#Place : NIT Patna"
      ]
    },
    {
      "cell_type": "markdown",
      "source": [
        "\n",
        "# Loading Libraries"
      ],
      "metadata": {
        "id": "pU2DN-4Qds5I"
      }
    },
    {
      "cell_type": "code",
      "source": [
        "import pandas as pd\n",
        "import numpy as np\n",
        "from statsmodels.tsa.statespace.sarimax import SARIMAX\n",
        "from sklearn.metrics import mean_squared_error\n",
        "import matplotlib.pyplot as plt"
      ],
      "metadata": {
        "id": "KkbZaOWXdfHf"
      },
      "execution_count": 2,
      "outputs": []
    },
    {
      "cell_type": "markdown",
      "source": [
        "# Loading Training Data"
      ],
      "metadata": {
        "id": "bgZ_cAPcd2Dn"
      }
    },
    {
      "cell_type": "code",
      "source": [
        "train = pd.read_csv(\"train.csv\")"
      ],
      "metadata": {
        "id": "gc-cuZeMdvac"
      },
      "execution_count": 3,
      "outputs": []
    },
    {
      "cell_type": "code",
      "source": [
        "train"
      ],
      "metadata": {
        "colab": {
          "base_uri": "https://localhost:8080/",
          "height": 658
        },
        "id": "YD_9t6T4eEOq",
        "outputId": "8c52db50-cac6-41b0-daea-df151706e20c"
      },
      "execution_count": 4,
      "outputs": [
        {
          "output_type": "execute_result",
          "data": {
            "text/plain": [
              "      Log Date / Time  NBCC FEEDER PILLER  LIBRARY BLDG  GIRLS HOSTEL  \\\n",
              "0    01-03-2020 00:00               34.14          6.85        169.20   \n",
              "1    02-03-2020 00:00               42.08         10.35        215.60   \n",
              "2    03-03-2020 00:00               52.67         32.30        196.16   \n",
              "3    04-03-2020 00:00              101.28         33.50        196.72   \n",
              "4    05-03-2020 00:00              104.96         32.14        197.12   \n",
              "..                ...                 ...           ...           ...   \n",
              "240  27-10-2020 00:00               99.30         52.35        160.06   \n",
              "241  28-10-2020 00:00               92.35         43.25        151.52   \n",
              "242  29-10-2020 00:00              100.93         48.66        140.90   \n",
              "243  30-10-2020 00:00               83.90         37.25         80.86   \n",
              "244  31-10-2020 00:00               63.78         37.60         73.38   \n",
              "\n",
              "     MAIN BLDG  CIVIL BLDG  FEEDER PILLER 4  FEEDER PILLER 2  SAC BLDG  \\\n",
              "0         0.00       28.08            10.14           841.15    110.88   \n",
              "1         3.46       55.56            10.56           898.94    156.32   \n",
              "2         3.90       67.08            10.20           913.86    177.34   \n",
              "3         4.22       73.08            10.56           922.94    157.97   \n",
              "4         4.74       75.72            10.62           931.01    170.58   \n",
              "..         ...         ...              ...              ...       ...   \n",
              "240      37.76       62.64            14.40           908.42     97.71   \n",
              "241      65.15       35.15            14.16           905.73     87.90   \n",
              "242      50.75       46.80            14.16           863.81     84.14   \n",
              "243      28.10       19.09            14.22           836.48     62.46   \n",
              "244      21.44       21.71            14.28           854.46     58.82   \n",
              "\n",
              "     FEEDER PILLER 5  MAIN POWER    TOTAL  \n",
              "0             399.97        5.11  1605.52  \n",
              "1             411.14        7.77  1811.78  \n",
              "2             421.12        7.80  1882.43  \n",
              "3             478.82        7.80  1986.89  \n",
              "4             475.10        7.33  2009.32  \n",
              "..               ...         ...      ...  \n",
              "240           171.46        7.27  1611.37  \n",
              "241           180.54        8.38  1584.13  \n",
              "242           162.21        7.67  1520.03  \n",
              "243           200.38        5.94  1368.68  \n",
              "244           173.31        6.22  1325.00  \n",
              "\n",
              "[245 rows x 12 columns]"
            ],
            "text/html": [
              "\n",
              "  <div id=\"df-b65654d7-0737-4b61-9fb2-13975ef7d899\">\n",
              "    <div class=\"colab-df-container\">\n",
              "      <div>\n",
              "<style scoped>\n",
              "    .dataframe tbody tr th:only-of-type {\n",
              "        vertical-align: middle;\n",
              "    }\n",
              "\n",
              "    .dataframe tbody tr th {\n",
              "        vertical-align: top;\n",
              "    }\n",
              "\n",
              "    .dataframe thead th {\n",
              "        text-align: right;\n",
              "    }\n",
              "</style>\n",
              "<table border=\"1\" class=\"dataframe\">\n",
              "  <thead>\n",
              "    <tr style=\"text-align: right;\">\n",
              "      <th></th>\n",
              "      <th>Log Date / Time</th>\n",
              "      <th>NBCC FEEDER PILLER</th>\n",
              "      <th>LIBRARY BLDG</th>\n",
              "      <th>GIRLS HOSTEL</th>\n",
              "      <th>MAIN BLDG</th>\n",
              "      <th>CIVIL BLDG</th>\n",
              "      <th>FEEDER PILLER 4</th>\n",
              "      <th>FEEDER PILLER 2</th>\n",
              "      <th>SAC BLDG</th>\n",
              "      <th>FEEDER PILLER 5</th>\n",
              "      <th>MAIN POWER</th>\n",
              "      <th>TOTAL</th>\n",
              "    </tr>\n",
              "  </thead>\n",
              "  <tbody>\n",
              "    <tr>\n",
              "      <th>0</th>\n",
              "      <td>01-03-2020 00:00</td>\n",
              "      <td>34.14</td>\n",
              "      <td>6.85</td>\n",
              "      <td>169.20</td>\n",
              "      <td>0.00</td>\n",
              "      <td>28.08</td>\n",
              "      <td>10.14</td>\n",
              "      <td>841.15</td>\n",
              "      <td>110.88</td>\n",
              "      <td>399.97</td>\n",
              "      <td>5.11</td>\n",
              "      <td>1605.52</td>\n",
              "    </tr>\n",
              "    <tr>\n",
              "      <th>1</th>\n",
              "      <td>02-03-2020 00:00</td>\n",
              "      <td>42.08</td>\n",
              "      <td>10.35</td>\n",
              "      <td>215.60</td>\n",
              "      <td>3.46</td>\n",
              "      <td>55.56</td>\n",
              "      <td>10.56</td>\n",
              "      <td>898.94</td>\n",
              "      <td>156.32</td>\n",
              "      <td>411.14</td>\n",
              "      <td>7.77</td>\n",
              "      <td>1811.78</td>\n",
              "    </tr>\n",
              "    <tr>\n",
              "      <th>2</th>\n",
              "      <td>03-03-2020 00:00</td>\n",
              "      <td>52.67</td>\n",
              "      <td>32.30</td>\n",
              "      <td>196.16</td>\n",
              "      <td>3.90</td>\n",
              "      <td>67.08</td>\n",
              "      <td>10.20</td>\n",
              "      <td>913.86</td>\n",
              "      <td>177.34</td>\n",
              "      <td>421.12</td>\n",
              "      <td>7.80</td>\n",
              "      <td>1882.43</td>\n",
              "    </tr>\n",
              "    <tr>\n",
              "      <th>3</th>\n",
              "      <td>04-03-2020 00:00</td>\n",
              "      <td>101.28</td>\n",
              "      <td>33.50</td>\n",
              "      <td>196.72</td>\n",
              "      <td>4.22</td>\n",
              "      <td>73.08</td>\n",
              "      <td>10.56</td>\n",
              "      <td>922.94</td>\n",
              "      <td>157.97</td>\n",
              "      <td>478.82</td>\n",
              "      <td>7.80</td>\n",
              "      <td>1986.89</td>\n",
              "    </tr>\n",
              "    <tr>\n",
              "      <th>4</th>\n",
              "      <td>05-03-2020 00:00</td>\n",
              "      <td>104.96</td>\n",
              "      <td>32.14</td>\n",
              "      <td>197.12</td>\n",
              "      <td>4.74</td>\n",
              "      <td>75.72</td>\n",
              "      <td>10.62</td>\n",
              "      <td>931.01</td>\n",
              "      <td>170.58</td>\n",
              "      <td>475.10</td>\n",
              "      <td>7.33</td>\n",
              "      <td>2009.32</td>\n",
              "    </tr>\n",
              "    <tr>\n",
              "      <th>...</th>\n",
              "      <td>...</td>\n",
              "      <td>...</td>\n",
              "      <td>...</td>\n",
              "      <td>...</td>\n",
              "      <td>...</td>\n",
              "      <td>...</td>\n",
              "      <td>...</td>\n",
              "      <td>...</td>\n",
              "      <td>...</td>\n",
              "      <td>...</td>\n",
              "      <td>...</td>\n",
              "      <td>...</td>\n",
              "    </tr>\n",
              "    <tr>\n",
              "      <th>240</th>\n",
              "      <td>27-10-2020 00:00</td>\n",
              "      <td>99.30</td>\n",
              "      <td>52.35</td>\n",
              "      <td>160.06</td>\n",
              "      <td>37.76</td>\n",
              "      <td>62.64</td>\n",
              "      <td>14.40</td>\n",
              "      <td>908.42</td>\n",
              "      <td>97.71</td>\n",
              "      <td>171.46</td>\n",
              "      <td>7.27</td>\n",
              "      <td>1611.37</td>\n",
              "    </tr>\n",
              "    <tr>\n",
              "      <th>241</th>\n",
              "      <td>28-10-2020 00:00</td>\n",
              "      <td>92.35</td>\n",
              "      <td>43.25</td>\n",
              "      <td>151.52</td>\n",
              "      <td>65.15</td>\n",
              "      <td>35.15</td>\n",
              "      <td>14.16</td>\n",
              "      <td>905.73</td>\n",
              "      <td>87.90</td>\n",
              "      <td>180.54</td>\n",
              "      <td>8.38</td>\n",
              "      <td>1584.13</td>\n",
              "    </tr>\n",
              "    <tr>\n",
              "      <th>242</th>\n",
              "      <td>29-10-2020 00:00</td>\n",
              "      <td>100.93</td>\n",
              "      <td>48.66</td>\n",
              "      <td>140.90</td>\n",
              "      <td>50.75</td>\n",
              "      <td>46.80</td>\n",
              "      <td>14.16</td>\n",
              "      <td>863.81</td>\n",
              "      <td>84.14</td>\n",
              "      <td>162.21</td>\n",
              "      <td>7.67</td>\n",
              "      <td>1520.03</td>\n",
              "    </tr>\n",
              "    <tr>\n",
              "      <th>243</th>\n",
              "      <td>30-10-2020 00:00</td>\n",
              "      <td>83.90</td>\n",
              "      <td>37.25</td>\n",
              "      <td>80.86</td>\n",
              "      <td>28.10</td>\n",
              "      <td>19.09</td>\n",
              "      <td>14.22</td>\n",
              "      <td>836.48</td>\n",
              "      <td>62.46</td>\n",
              "      <td>200.38</td>\n",
              "      <td>5.94</td>\n",
              "      <td>1368.68</td>\n",
              "    </tr>\n",
              "    <tr>\n",
              "      <th>244</th>\n",
              "      <td>31-10-2020 00:00</td>\n",
              "      <td>63.78</td>\n",
              "      <td>37.60</td>\n",
              "      <td>73.38</td>\n",
              "      <td>21.44</td>\n",
              "      <td>21.71</td>\n",
              "      <td>14.28</td>\n",
              "      <td>854.46</td>\n",
              "      <td>58.82</td>\n",
              "      <td>173.31</td>\n",
              "      <td>6.22</td>\n",
              "      <td>1325.00</td>\n",
              "    </tr>\n",
              "  </tbody>\n",
              "</table>\n",
              "<p>245 rows × 12 columns</p>\n",
              "</div>\n",
              "      <button class=\"colab-df-convert\" onclick=\"convertToInteractive('df-b65654d7-0737-4b61-9fb2-13975ef7d899')\"\n",
              "              title=\"Convert this dataframe to an interactive table.\"\n",
              "              style=\"display:none;\">\n",
              "        \n",
              "  <svg xmlns=\"http://www.w3.org/2000/svg\" height=\"24px\"viewBox=\"0 0 24 24\"\n",
              "       width=\"24px\">\n",
              "    <path d=\"M0 0h24v24H0V0z\" fill=\"none\"/>\n",
              "    <path d=\"M18.56 5.44l.94 2.06.94-2.06 2.06-.94-2.06-.94-.94-2.06-.94 2.06-2.06.94zm-11 1L8.5 8.5l.94-2.06 2.06-.94-2.06-.94L8.5 2.5l-.94 2.06-2.06.94zm10 10l.94 2.06.94-2.06 2.06-.94-2.06-.94-.94-2.06-.94 2.06-2.06.94z\"/><path d=\"M17.41 7.96l-1.37-1.37c-.4-.4-.92-.59-1.43-.59-.52 0-1.04.2-1.43.59L10.3 9.45l-7.72 7.72c-.78.78-.78 2.05 0 2.83L4 21.41c.39.39.9.59 1.41.59.51 0 1.02-.2 1.41-.59l7.78-7.78 2.81-2.81c.8-.78.8-2.07 0-2.86zM5.41 20L4 18.59l7.72-7.72 1.47 1.35L5.41 20z\"/>\n",
              "  </svg>\n",
              "      </button>\n",
              "      \n",
              "  <style>\n",
              "    .colab-df-container {\n",
              "      display:flex;\n",
              "      flex-wrap:wrap;\n",
              "      gap: 12px;\n",
              "    }\n",
              "\n",
              "    .colab-df-convert {\n",
              "      background-color: #E8F0FE;\n",
              "      border: none;\n",
              "      border-radius: 50%;\n",
              "      cursor: pointer;\n",
              "      display: none;\n",
              "      fill: #1967D2;\n",
              "      height: 32px;\n",
              "      padding: 0 0 0 0;\n",
              "      width: 32px;\n",
              "    }\n",
              "\n",
              "    .colab-df-convert:hover {\n",
              "      background-color: #E2EBFA;\n",
              "      box-shadow: 0px 1px 2px rgba(60, 64, 67, 0.3), 0px 1px 3px 1px rgba(60, 64, 67, 0.15);\n",
              "      fill: #174EA6;\n",
              "    }\n",
              "\n",
              "    [theme=dark] .colab-df-convert {\n",
              "      background-color: #3B4455;\n",
              "      fill: #D2E3FC;\n",
              "    }\n",
              "\n",
              "    [theme=dark] .colab-df-convert:hover {\n",
              "      background-color: #434B5C;\n",
              "      box-shadow: 0px 1px 3px 1px rgba(0, 0, 0, 0.15);\n",
              "      filter: drop-shadow(0px 1px 2px rgba(0, 0, 0, 0.3));\n",
              "      fill: #FFFFFF;\n",
              "    }\n",
              "  </style>\n",
              "\n",
              "      <script>\n",
              "        const buttonEl =\n",
              "          document.querySelector('#df-b65654d7-0737-4b61-9fb2-13975ef7d899 button.colab-df-convert');\n",
              "        buttonEl.style.display =\n",
              "          google.colab.kernel.accessAllowed ? 'block' : 'none';\n",
              "\n",
              "        async function convertToInteractive(key) {\n",
              "          const element = document.querySelector('#df-b65654d7-0737-4b61-9fb2-13975ef7d899');\n",
              "          const dataTable =\n",
              "            await google.colab.kernel.invokeFunction('convertToInteractive',\n",
              "                                                     [key], {});\n",
              "          if (!dataTable) return;\n",
              "\n",
              "          const docLinkHtml = 'Like what you see? Visit the ' +\n",
              "            '<a target=\"_blank\" href=https://colab.research.google.com/notebooks/data_table.ipynb>data table notebook</a>'\n",
              "            + ' to learn more about interactive tables.';\n",
              "          element.innerHTML = '';\n",
              "          dataTable['output_type'] = 'display_data';\n",
              "          await google.colab.output.renderOutput(dataTable, element);\n",
              "          const docLink = document.createElement('div');\n",
              "          docLink.innerHTML = docLinkHtml;\n",
              "          element.appendChild(docLink);\n",
              "        }\n",
              "      </script>\n",
              "    </div>\n",
              "  </div>\n",
              "  "
            ]
          },
          "metadata": {},
          "execution_count": 4
        }
      ]
    },
    {
      "cell_type": "code",
      "source": [
        "train.info()"
      ],
      "metadata": {
        "colab": {
          "base_uri": "https://localhost:8080/"
        },
        "id": "m6QWD8hEeGkJ",
        "outputId": "b878ceb5-6c87-4328-88c8-d1a3d02fbff2"
      },
      "execution_count": 5,
      "outputs": [
        {
          "output_type": "stream",
          "name": "stdout",
          "text": [
            "<class 'pandas.core.frame.DataFrame'>\n",
            "RangeIndex: 245 entries, 0 to 244\n",
            "Data columns (total 12 columns):\n",
            " #   Column              Non-Null Count  Dtype  \n",
            "---  ------              --------------  -----  \n",
            " 0   Log Date / Time     245 non-null    object \n",
            " 1   NBCC FEEDER PILLER  245 non-null    float64\n",
            " 2   LIBRARY BLDG        245 non-null    float64\n",
            " 3   GIRLS HOSTEL        245 non-null    float64\n",
            " 4   MAIN BLDG           245 non-null    float64\n",
            " 5   CIVIL BLDG          245 non-null    float64\n",
            " 6   FEEDER PILLER 4     245 non-null    float64\n",
            " 7   FEEDER PILLER 2     245 non-null    float64\n",
            " 8   SAC BLDG            245 non-null    float64\n",
            " 9   FEEDER PILLER 5     245 non-null    float64\n",
            " 10  MAIN POWER          245 non-null    float64\n",
            " 11  TOTAL               245 non-null    float64\n",
            "dtypes: float64(11), object(1)\n",
            "memory usage: 23.1+ KB\n"
          ]
        }
      ]
    },
    {
      "cell_type": "code",
      "source": [
        "train.plot()"
      ],
      "metadata": {
        "colab": {
          "base_uri": "https://localhost:8080/",
          "height": 282
        },
        "id": "pQDTpzbOeIj3",
        "outputId": "5777140e-930d-488f-aca3-81aa3fed2d62"
      },
      "execution_count": 6,
      "outputs": [
        {
          "output_type": "execute_result",
          "data": {
            "text/plain": [
              "<matplotlib.axes._subplots.AxesSubplot at 0x7f4470f7da60>"
            ]
          },
          "metadata": {},
          "execution_count": 6
        },
        {
          "output_type": "display_data",
          "data": {
            "text/plain": [
              "<Figure size 432x288 with 1 Axes>"
            ],
            "image/png": "[encoded data removed]"
          },
          "metadata": {
            "needs_background": "light"
          }
        }
      ]
    },
    {
      "cell_type": "markdown",
      "source": [
        "# Loading Test data"
      ],
      "metadata": {
        "id": "AIAO7LlPeNWo"
      }
    },
    {
      "cell_type": "code",
      "source": [
        "test = pd.read_csv(\"test.csv\")"
      ],
      "metadata": {
        "id": "-bSMYLkxeKzl"
      },
      "execution_count": 7,
      "outputs": []
    },
    {
      "cell_type": "code",
      "source": [
        "test"
      ],
      "metadata": {
        "colab": {
          "base_uri": "https://localhost:8080/",
          "height": 1000
        },
        "id": "7ZtX5J83ePzk",
        "outputId": "7de40027-846b-4341-b46b-7c456a571e2c"
      },
      "execution_count": 8,
      "outputs": [
        {
          "output_type": "execute_result",
          "data": {
            "text/plain": [
              "     Log Date / Time  NBCC FEEDER PILLER  LIBRARY BLDG  GIRLS HOSTEL  \\\n",
              "0   01-11-2020 00:00               62.24         37.45         79.90   \n",
              "1   02-11-2020 00:00               85.79         43.85         84.16   \n",
              "2   03-11-2020 00:00               35.81         37.00         75.94   \n",
              "3   04-11-2020 00:00               55.42         36.70         78.72   \n",
              "4   05-11-2020 00:00               82.27         36.80         79.04   \n",
              "5   06-11-2020 00:00               60.48         37.30         85.76   \n",
              "6   07-11-2020 00:00               47.14         36.86         59.52   \n",
              "7   08-11-2020 00:00               53.18         36.45         50.94   \n",
              "8   09-11-2020 00:00               74.94         28.40         70.82   \n",
              "9   10-11-2020 00:00               83.42         15.90         60.86   \n",
              "10  11-11-2020 00:00               77.50         21.95         70.88   \n",
              "11  12-11-2020 00:00               72.35         29.60         68.22   \n",
              "12  13-11-2020 00:00               60.74         31.95         67.46   \n",
              "13  14-11-2020 00:00               40.96         32.00         39.10   \n",
              "14  15-11-2020 00:00               40.58         30.30         42.40   \n",
              "15  16-11-2020 00:00               55.04         30.30         49.66   \n",
              "16  17-11-2020 00:00               94.88         27.40         61.60   \n",
              "17  18-11-2020 00:00               77.50         30.40         52.64   \n",
              "18  19-11-2020 00:00               60.48         30.20         56.42   \n",
              "19  20-11-2020 00:00               76.86         30.40         56.16   \n",
              "20  21-11-2020 00:00               79.90         28.80         49.06   \n",
              "21  22-11-2020 00:00               42.08         23.15         46.72   \n",
              "22  23-11-2020 00:00               39.81         24.25         38.88   \n",
              "23  24-11-2020 00:00               45.34         24.25         55.52   \n",
              "24  25-11-2020 00:00               33.89         24.05         47.04   \n",
              "25  26-11-2020 00:00               35.04         25.86         60.70   \n",
              "26  27-11-2020 00:00               32.00         25.55         49.60   \n",
              "27  28-11-2020 00:00               29.60         23.60         44.70   \n",
              "28  29-11-2020 00:00               33.15         23.85         54.02   \n",
              "29  30-11-2020 00:00               35.26         24.50         50.14   \n",
              "\n",
              "    MAIN BLDG  CIVIL BLDG  FEEDER PILLER 4  FEEDER PILLER 2  SAC BLDG  \\\n",
              "0       21.44       14.40            14.22           867.33     56.82   \n",
              "1       41.09       43.33            14.22           915.78     84.05   \n",
              "2        0.00       12.11            14.46           865.73     46.98   \n",
              "3        3.58       22.93            14.34           944.64     85.84   \n",
              "4       12.48       44.16            14.34           914.24     82.83   \n",
              "5       18.30       35.63            14.28           886.08     81.17   \n",
              "6       11.14       21.97            14.40           835.20     50.46   \n",
              "7       10.24       27.12            14.46           874.82     57.79   \n",
              "8       16.58       43.20            14.28           882.37     80.62   \n",
              "9        4.99       22.91            14.28           883.58     96.21   \n",
              "10      12.99       25.33            13.14           901.25     78.29   \n",
              "11      11.65       44.75            11.04           905.02     77.73   \n",
              "12       9.09       35.52            14.10           896.83     84.83   \n",
              "13       0.00       22.08            14.28           850.50     69.34   \n",
              "14       0.00       24.24            14.34           884.67     57.55   \n",
              "15      11.58       27.73            14.16           909.38     77.14   \n",
              "16       5.12       24.00            13.68           893.44     73.76   \n",
              "17       4.93       43.68            14.22           925.70     67.76   \n",
              "18       4.93       30.24            14.28           917.57     61.36   \n",
              "19       0.00       30.00            14.10           939.46     55.47   \n",
              "20       2.69       24.96            14.22           874.62     52.11   \n",
              "21       1.73       36.11            14.22           800.70     54.61   \n",
              "22       8.38       43.20            14.28           918.21     61.84   \n",
              "23       6.34       28.45            14.28           951.04     63.34   \n",
              "24       4.99       33.36            14.10           961.47     88.03   \n",
              "25       4.35       34.91            13.74           969.86     90.34   \n",
              "26       4.93       29.52            12.78           947.65     91.66   \n",
              "27       0.26       32.88            13.74           948.61     65.22   \n",
              "28       0.06       36.96            12.78           912.90     55.74   \n",
              "29       1.28       35.52            13.14           894.27     56.64   \n",
              "\n",
              "    FEEDER PILLER 5  MAIN POWER    TOTAL  \n",
              "0            195.30        5.56  1354.66  \n",
              "1            182.24        6.63  1501.14  \n",
              "2            203.36        5.58  1296.97  \n",
              "3            180.06        7.29  1429.52  \n",
              "4            224.48        6.93  1497.57  \n",
              "5            227.04        6.98  1453.02  \n",
              "6            240.93        5.57  1323.19  \n",
              "7            215.07        5.35  1345.42  \n",
              "8            225.22        7.13  1443.56  \n",
              "9            204.38        7.05  1393.58  \n",
              "10           211.17        7.76  1420.26  \n",
              "11           200.26        8.35  1428.97  \n",
              "12           201.02        7.15  1408.69  \n",
              "13           199.55        5.74  1273.55  \n",
              "14           194.40        5.72  1294.20  \n",
              "15           195.81        7.09  1377.89  \n",
              "16           207.90        6.88  1408.66  \n",
              "17           204.19        6.47  1427.49  \n",
              "18           200.80        6.13  1382.41  \n",
              "19           199.49        5.56  1407.50  \n",
              "20           209.82        5.37  1341.55  \n",
              "21           238.59        5.40  1263.31  \n",
              "22           304.99        7.02  1460.86  \n",
              "23           323.01        7.17  1518.74  \n",
              "24           349.31        7.00  1563.24  \n",
              "25           348.03        6.65  1589.48  \n",
              "26           326.72        6.78  1527.19  \n",
              "27           271.36        5.33  1435.30  \n",
              "28           261.73        5.30  1396.49  \n",
              "29           279.46        5.21  1395.42  "
            ],
            "text/html": [
              "\n",
              "  <div id=\"df-16c392de-228b-457f-8ed2-40efbbf8bc3f\">\n",
              "    <div class=\"colab-df-container\">\n",
              "      <div>\n",
              "<style scoped>\n",
              "    .dataframe tbody tr th:only-of-type {\n",
              "        vertical-align: middle;\n",
              "    }\n",
              "\n",
              "    .dataframe tbody tr th {\n",
              "        vertical-align: top;\n",
              "    }\n",
              "\n",
              "    .dataframe thead th {\n",
              "        text-align: right;\n",
              "    }\n",
              "</style>\n",
              "<table border=\"1\" class=\"dataframe\">\n",
              "  <thead>\n",
              "    <tr style=\"text-align: right;\">\n",
              "      <th></th>\n",
              "      <th>Log Date / Time</th>\n",
              "      <th>NBCC FEEDER PILLER</th>\n",
              "      <th>LIBRARY BLDG</th>\n",
              "      <th>GIRLS HOSTEL</th>\n",
              "      <th>MAIN BLDG</th>\n",
              "      <th>CIVIL BLDG</th>\n",
              "      <th>FEEDER PILLER 4</th>\n",
              "      <th>FEEDER PILLER 2</th>\n",
              "      <th>SAC BLDG</th>\n",
              "      <th>FEEDER PILLER 5</th>\n",
              "      <th>MAIN POWER</th>\n",
              "      <th>TOTAL</th>\n",
              "    </tr>\n",
              "  </thead>\n",
              "  <tbody>\n",
              "    <tr>\n",
              "      <th>0</th>\n",
              "      <td>01-11-2020 00:00</td>\n",
              "      <td>62.24</td>\n",
              "      <td>37.45</td>\n",
              "      <td>79.90</td>\n",
              "      <td>21.44</td>\n",
              "      <td>14.40</td>\n",
              "      <td>14.22</td>\n",
              "      <td>867.33</td>\n",
              "      <td>56.82</td>\n",
              "      <td>195.30</td>\n",
              "      <td>5.56</td>\n",
              "      <td>1354.66</td>\n",
              "    </tr>\n",
              "    <tr>\n",
              "      <th>1</th>\n",
              "      <td>02-11-2020 00:00</td>\n",
              "      <td>85.79</td>\n",
              "      <td>43.85</td>\n",
              "      <td>84.16</td>\n",
              "      <td>41.09</td>\n",
              "      <td>43.33</td>\n",
              "      <td>14.22</td>\n",
              "      <td>915.78</td>\n",
              "      <td>84.05</td>\n",
              "      <td>182.24</td>\n",
              "      <td>6.63</td>\n",
              "      <td>1501.14</td>\n",
              "    </tr>\n",
              "    <tr>\n",
              "      <th>2</th>\n",
              "      <td>03-11-2020 00:00</td>\n",
              "      <td>35.81</td>\n",
              "      <td>37.00</td>\n",
              "      <td>75.94</td>\n",
              "      <td>0.00</td>\n",
              "      <td>12.11</td>\n",
              "      <td>14.46</td>\n",
              "      <td>865.73</td>\n",
              "      <td>46.98</td>\n",
              "      <td>203.36</td>\n",
              "      <td>5.58</td>\n",
              "      <td>1296.97</td>\n",
              "    </tr>\n",
              "    <tr>\n",
              "      <th>3</th>\n",
              "      <td>04-11-2020 00:00</td>\n",
              "      <td>55.42</td>\n",
              "      <td>36.70</td>\n",
              "      <td>78.72</td>\n",
              "      <td>3.58</td>\n",
              "      <td>22.93</td>\n",
              "      <td>14.34</td>\n",
              "      <td>944.64</td>\n",
              "      <td>85.84</td>\n",
              "      <td>180.06</td>\n",
              "      <td>7.29</td>\n",
              "      <td>1429.52</td>\n",
              "    </tr>\n",
              "    <tr>\n",
              "      <th>4</th>\n",
              "      <td>05-11-2020 00:00</td>\n",
              "      <td>82.27</td>\n",
              "      <td>36.80</td>\n",
              "      <td>79.04</td>\n",
              "      <td>12.48</td>\n",
              "      <td>44.16</td>\n",
              "      <td>14.34</td>\n",
              "      <td>914.24</td>\n",
              "      <td>82.83</td>\n",
              "      <td>224.48</td>\n",
              "      <td>6.93</td>\n",
              "      <td>1497.57</td>\n",
              "    </tr>\n",
              "    <tr>\n",
              "      <th>5</th>\n",
              "      <td>06-11-2020 00:00</td>\n",
              "      <td>60.48</td>\n",
              "      <td>37.30</td>\n",
              "      <td>85.76</td>\n",
              "      <td>18.30</td>\n",
              "      <td>35.63</td>\n",
              "      <td>14.28</td>\n",
              "      <td>886.08</td>\n",
              "      <td>81.17</td>\n",
              "      <td>227.04</td>\n",
              "      <td>6.98</td>\n",
              "      <td>1453.02</td>\n",
              "    </tr>\n",
              "    <tr>\n",
              "      <th>6</th>\n",
              "      <td>07-11-2020 00:00</td>\n",
              "      <td>47.14</td>\n",
              "      <td>36.86</td>\n",
              "      <td>59.52</td>\n",
              "      <td>11.14</td>\n",
              "      <td>21.97</td>\n",
              "      <td>14.40</td>\n",
              "      <td>835.20</td>\n",
              "      <td>50.46</td>\n",
              "      <td>240.93</td>\n",
              "      <td>5.57</td>\n",
              "      <td>1323.19</td>\n",
              "    </tr>\n",
              "    <tr>\n",
              "      <th>7</th>\n",
              "      <td>08-11-2020 00:00</td>\n",
              "      <td>53.18</td>\n",
              "      <td>36.45</td>\n",
              "      <td>50.94</td>\n",
              "      <td>10.24</td>\n",
              "      <td>27.12</td>\n",
              "      <td>14.46</td>\n",
              "      <td>874.82</td>\n",
              "      <td>57.79</td>\n",
              "      <td>215.07</td>\n",
              "      <td>5.35</td>\n",
              "      <td>1345.42</td>\n",
              "    </tr>\n",
              "    <tr>\n",
              "      <th>8</th>\n",
              "      <td>09-11-2020 00:00</td>\n",
              "      <td>74.94</td>\n",
              "      <td>28.40</td>\n",
              "      <td>70.82</td>\n",
              "      <td>16.58</td>\n",
              "      <td>43.20</td>\n",
              "      <td>14.28</td>\n",
              "      <td>882.37</td>\n",
              "      <td>80.62</td>\n",
              "      <td>225.22</td>\n",
              "      <td>7.13</td>\n",
              "      <td>1443.56</td>\n",
              "    </tr>\n",
              "    <tr>\n",
              "      <th>9</th>\n",
              "      <td>10-11-2020 00:00</td>\n",
              "      <td>83.42</td>\n",
              "      <td>15.90</td>\n",
              "      <td>60.86</td>\n",
              "      <td>4.99</td>\n",
              "      <td>22.91</td>\n",
              "      <td>14.28</td>\n",
              "      <td>883.58</td>\n",
              "      <td>96.21</td>\n",
              "      <td>204.38</td>\n",
              "      <td>7.05</td>\n",
              "      <td>1393.58</td>\n",
              "    </tr>\n",
              "    <tr>\n",
              "      <th>10</th>\n",
              "      <td>11-11-2020 00:00</td>\n",
              "      <td>77.50</td>\n",
              "      <td>21.95</td>\n",
              "      <td>70.88</td>\n",
              "      <td>12.99</td>\n",
              "      <td>25.33</td>\n",
              "      <td>13.14</td>\n",
              "      <td>901.25</td>\n",
              "      <td>78.29</td>\n",
              "      <td>211.17</td>\n",
              "      <td>7.76</td>\n",
              "      <td>1420.26</td>\n",
              "    </tr>\n",
              "    <tr>\n",
              "      <th>11</th>\n",
              "      <td>12-11-2020 00:00</td>\n",
              "      <td>72.35</td>\n",
              "      <td>29.60</td>\n",
              "      <td>68.22</td>\n",
              "      <td>11.65</td>\n",
              "      <td>44.75</td>\n",
              "      <td>11.04</td>\n",
              "      <td>905.02</td>\n",
              "      <td>77.73</td>\n",
              "      <td>200.26</td>\n",
              "      <td>8.35</td>\n",
              "      <td>1428.97</td>\n",
              "    </tr>\n",
              "    <tr>\n",
              "      <th>12</th>\n",
              "      <td>13-11-2020 00:00</td>\n",
              "      <td>60.74</td>\n",
              "      <td>31.95</td>\n",
              "      <td>67.46</td>\n",
              "      <td>9.09</td>\n",
              "      <td>35.52</td>\n",
              "      <td>14.10</td>\n",
              "      <td>896.83</td>\n",
              "      <td>84.83</td>\n",
              "      <td>201.02</td>\n",
              "      <td>7.15</td>\n",
              "      <td>1408.69</td>\n",
              "    </tr>\n",
              "    <tr>\n",
              "      <th>13</th>\n",
              "      <td>14-11-2020 00:00</td>\n",
              "      <td>40.96</td>\n",
              "      <td>32.00</td>\n",
              "      <td>39.10</td>\n",
              "      <td>0.00</td>\n",
              "      <td>22.08</td>\n",
              "      <td>14.28</td>\n",
              "      <td>850.50</td>\n",
              "      <td>69.34</td>\n",
              "      <td>199.55</td>\n",
              "      <td>5.74</td>\n",
              "      <td>1273.55</td>\n",
              "    </tr>\n",
              "    <tr>\n",
              "      <th>14</th>\n",
              "      <td>15-11-2020 00:00</td>\n",
              "      <td>40.58</td>\n",
              "      <td>30.30</td>\n",
              "      <td>42.40</td>\n",
              "      <td>0.00</td>\n",
              "      <td>24.24</td>\n",
              "      <td>14.34</td>\n",
              "      <td>884.67</td>\n",
              "      <td>57.55</td>\n",
              "      <td>194.40</td>\n",
              "      <td>5.72</td>\n",
              "      <td>1294.20</td>\n",
              "    </tr>\n",
              "    <tr>\n",
              "      <th>15</th>\n",
              "      <td>16-11-2020 00:00</td>\n",
              "      <td>55.04</td>\n",
              "      <td>30.30</td>\n",
              "      <td>49.66</td>\n",
              "      <td>11.58</td>\n",
              "      <td>27.73</td>\n",
              "      <td>14.16</td>\n",
              "      <td>909.38</td>\n",
              "      <td>77.14</td>\n",
              "      <td>195.81</td>\n",
              "      <td>7.09</td>\n",
              "      <td>1377.89</td>\n",
              "    </tr>\n",
              "    <tr>\n",
              "      <th>16</th>\n",
              "      <td>17-11-2020 00:00</td>\n",
              "      <td>94.88</td>\n",
              "      <td>27.40</td>\n",
              "      <td>61.60</td>\n",
              "      <td>5.12</td>\n",
              "      <td>24.00</td>\n",
              "      <td>13.68</td>\n",
              "      <td>893.44</td>\n",
              "      <td>73.76</td>\n",
              "      <td>207.90</td>\n",
              "      <td>6.88</td>\n",
              "      <td>1408.66</td>\n",
              "    </tr>\n",
              "    <tr>\n",
              "      <th>17</th>\n",
              "      <td>18-11-2020 00:00</td>\n",
              "      <td>77.50</td>\n",
              "      <td>30.40</td>\n",
              "      <td>52.64</td>\n",
              "      <td>4.93</td>\n",
              "      <td>43.68</td>\n",
              "      <td>14.22</td>\n",
              "      <td>925.70</td>\n",
              "      <td>67.76</td>\n",
              "      <td>204.19</td>\n",
              "      <td>6.47</td>\n",
              "      <td>1427.49</td>\n",
              "    </tr>\n",
              "    <tr>\n",
              "      <th>18</th>\n",
              "      <td>19-11-2020 00:00</td>\n",
              "      <td>60.48</td>\n",
              "      <td>30.20</td>\n",
              "      <td>56.42</td>\n",
              "      <td>4.93</td>\n",
              "      <td>30.24</td>\n",
              "      <td>14.28</td>\n",
              "      <td>917.57</td>\n",
              "      <td>61.36</td>\n",
              "      <td>200.80</td>\n",
              "      <td>6.13</td>\n",
              "      <td>1382.41</td>\n",
              "    </tr>\n",
              "    <tr>\n",
              "      <th>19</th>\n",
              "      <td>20-11-2020 00:00</td>\n",
              "      <td>76.86</td>\n",
              "      <td>30.40</td>\n",
              "      <td>56.16</td>\n",
              "      <td>0.00</td>\n",
              "      <td>30.00</td>\n",
              "      <td>14.10</td>\n",
              "      <td>939.46</td>\n",
              "      <td>55.47</td>\n",
              "      <td>199.49</td>\n",
              "      <td>5.56</td>\n",
              "      <td>1407.50</td>\n",
              "    </tr>\n",
              "    <tr>\n",
              "      <th>20</th>\n",
              "      <td>21-11-2020 00:00</td>\n",
              "      <td>79.90</td>\n",
              "      <td>28.80</td>\n",
              "      <td>49.06</td>\n",
              "      <td>2.69</td>\n",
              "      <td>24.96</td>\n",
              "      <td>14.22</td>\n",
              "      <td>874.62</td>\n",
              "      <td>52.11</td>\n",
              "      <td>209.82</td>\n",
              "      <td>5.37</td>\n",
              "      <td>1341.55</td>\n",
              "    </tr>\n",
              "    <tr>\n",
              "      <th>21</th>\n",
              "      <td>22-11-2020 00:00</td>\n",
              "      <td>42.08</td>\n",
              "      <td>23.15</td>\n",
              "      <td>46.72</td>\n",
              "      <td>1.73</td>\n",
              "      <td>36.11</td>\n",
              "      <td>14.22</td>\n",
              "      <td>800.70</td>\n",
              "      <td>54.61</td>\n",
              "      <td>238.59</td>\n",
              "      <td>5.40</td>\n",
              "      <td>1263.31</td>\n",
              "    </tr>\n",
              "    <tr>\n",
              "      <th>22</th>\n",
              "      <td>23-11-2020 00:00</td>\n",
              "      <td>39.81</td>\n",
              "      <td>24.25</td>\n",
              "      <td>38.88</td>\n",
              "      <td>8.38</td>\n",
              "      <td>43.20</td>\n",
              "      <td>14.28</td>\n",
              "      <td>918.21</td>\n",
              "      <td>61.84</td>\n",
              "      <td>304.99</td>\n",
              "      <td>7.02</td>\n",
              "      <td>1460.86</td>\n",
              "    </tr>\n",
              "    <tr>\n",
              "      <th>23</th>\n",
              "      <td>24-11-2020 00:00</td>\n",
              "      <td>45.34</td>\n",
              "      <td>24.25</td>\n",
              "      <td>55.52</td>\n",
              "      <td>6.34</td>\n",
              "      <td>28.45</td>\n",
              "      <td>14.28</td>\n",
              "      <td>951.04</td>\n",
              "      <td>63.34</td>\n",
              "      <td>323.01</td>\n",
              "      <td>7.17</td>\n",
              "      <td>1518.74</td>\n",
              "    </tr>\n",
              "    <tr>\n",
              "      <th>24</th>\n",
              "      <td>25-11-2020 00:00</td>\n",
              "      <td>33.89</td>\n",
              "      <td>24.05</td>\n",
              "      <td>47.04</td>\n",
              "      <td>4.99</td>\n",
              "      <td>33.36</td>\n",
              "      <td>14.10</td>\n",
              "      <td>961.47</td>\n",
              "      <td>88.03</td>\n",
              "      <td>349.31</td>\n",
              "      <td>7.00</td>\n",
              "      <td>1563.24</td>\n",
              "    </tr>\n",
              "    <tr>\n",
              "      <th>25</th>\n",
              "      <td>26-11-2020 00:00</td>\n",
              "      <td>35.04</td>\n",
              "      <td>25.86</td>\n",
              "      <td>60.70</td>\n",
              "      <td>4.35</td>\n",
              "      <td>34.91</td>\n",
              "      <td>13.74</td>\n",
              "      <td>969.86</td>\n",
              "      <td>90.34</td>\n",
              "      <td>348.03</td>\n",
              "      <td>6.65</td>\n",
              "      <td>1589.48</td>\n",
              "    </tr>\n",
              "    <tr>\n",
              "      <th>26</th>\n",
              "      <td>27-11-2020 00:00</td>\n",
              "      <td>32.00</td>\n",
              "      <td>25.55</td>\n",
              "      <td>49.60</td>\n",
              "      <td>4.93</td>\n",
              "      <td>29.52</td>\n",
              "      <td>12.78</td>\n",
              "      <td>947.65</td>\n",
              "      <td>91.66</td>\n",
              "      <td>326.72</td>\n",
              "      <td>6.78</td>\n",
              "      <td>1527.19</td>\n",
              "    </tr>\n",
              "    <tr>\n",
              "      <th>27</th>\n",
              "      <td>28-11-2020 00:00</td>\n",
              "      <td>29.60</td>\n",
              "      <td>23.60</td>\n",
              "      <td>44.70</td>\n",
              "      <td>0.26</td>\n",
              "      <td>32.88</td>\n",
              "      <td>13.74</td>\n",
              "      <td>948.61</td>\n",
              "      <td>65.22</td>\n",
              "      <td>271.36</td>\n",
              "      <td>5.33</td>\n",
              "      <td>1435.30</td>\n",
              "    </tr>\n",
              "    <tr>\n",
              "      <th>28</th>\n",
              "      <td>29-11-2020 00:00</td>\n",
              "      <td>33.15</td>\n",
              "      <td>23.85</td>\n",
              "      <td>54.02</td>\n",
              "      <td>0.06</td>\n",
              "      <td>36.96</td>\n",
              "      <td>12.78</td>\n",
              "      <td>912.90</td>\n",
              "      <td>55.74</td>\n",
              "      <td>261.73</td>\n",
              "      <td>5.30</td>\n",
              "      <td>1396.49</td>\n",
              "    </tr>\n",
              "    <tr>\n",
              "      <th>29</th>\n",
              "      <td>30-11-2020 00:00</td>\n",
              "      <td>35.26</td>\n",
              "      <td>24.50</td>\n",
              "      <td>50.14</td>\n",
              "      <td>1.28</td>\n",
              "      <td>35.52</td>\n",
              "      <td>13.14</td>\n",
              "      <td>894.27</td>\n",
              "      <td>56.64</td>\n",
              "      <td>279.46</td>\n",
              "      <td>5.21</td>\n",
              "      <td>1395.42</td>\n",
              "    </tr>\n",
              "  </tbody>\n",
              "</table>\n",
              "</div>\n",
              "      <button class=\"colab-df-convert\" onclick=\"convertToInteractive('df-16c392de-228b-457f-8ed2-40efbbf8bc3f')\"\n",
              "              title=\"Convert this dataframe to an interactive table.\"\n",
              "              style=\"display:none;\">\n",
              "        \n",
              "  <svg xmlns=\"http://www.w3.org/2000/svg\" height=\"24px\"viewBox=\"0 0 24 24\"\n",
              "       width=\"24px\">\n",
              "    <path d=\"M0 0h24v24H0V0z\" fill=\"none\"/>\n",
              "    <path d=\"M18.56 5.44l.94 2.06.94-2.06 2.06-.94-2.06-.94-.94-2.06-.94 2.06-2.06.94zm-11 1L8.5 8.5l.94-2.06 2.06-.94-2.06-.94L8.5 2.5l-.94 2.06-2.06.94zm10 10l.94 2.06.94-2.06 2.06-.94-2.06-.94-.94-2.06-.94 2.06-2.06.94z\"/><path d=\"M17.41 7.96l-1.37-1.37c-.4-.4-.92-.59-1.43-.59-.52 0-1.04.2-1.43.59L10.3 9.45l-7.72 7.72c-.78.78-.78 2.05 0 2.83L4 21.41c.39.39.9.59 1.41.59.51 0 1.02-.2 1.41-.59l7.78-7.78 2.81-2.81c.8-.78.8-2.07 0-2.86zM5.41 20L4 18.59l7.72-7.72 1.47 1.35L5.41 20z\"/>\n",
              "  </svg>\n",
              "      </button>\n",
              "      \n",
              "  <style>\n",
              "    .colab-df-container {\n",
              "      display:flex;\n",
              "      flex-wrap:wrap;\n",
              "      gap: 12px;\n",
              "    }\n",
              "\n",
              "    .colab-df-convert {\n",
              "      background-color: #E8F0FE;\n",
              "      border: none;\n",
              "      border-radius: 50%;\n",
              "      cursor: pointer;\n",
              "      display: none;\n",
              "      fill: #1967D2;\n",
              "      height: 32px;\n",
              "      padding: 0 0 0 0;\n",
              "      width: 32px;\n",
              "    }\n",
              "\n",
              "    .colab-df-convert:hover {\n",
              "      background-color: #E2EBFA;\n",
              "      box-shadow: 0px 1px 2px rgba(60, 64, 67, 0.3), 0px 1px 3px 1px rgba(60, 64, 67, 0.15);\n",
              "      fill: #174EA6;\n",
              "    }\n",
              "\n",
              "    [theme=dark] .colab-df-convert {\n",
              "      background-color: #3B4455;\n",
              "      fill: #D2E3FC;\n",
              "    }\n",
              "\n",
              "    [theme=dark] .colab-df-convert:hover {\n",
              "      background-color: #434B5C;\n",
              "      box-shadow: 0px 1px 3px 1px rgba(0, 0, 0, 0.15);\n",
              "      filter: drop-shadow(0px 1px 2px rgba(0, 0, 0, 0.3));\n",
              "      fill: #FFFFFF;\n",
              "    }\n",
              "  </style>\n",
              "\n",
              "      <script>\n",
              "        const buttonEl =\n",
              "          document.querySelector('#df-16c392de-228b-457f-8ed2-40efbbf8bc3f button.colab-df-convert');\n",
              "        buttonEl.style.display =\n",
              "          google.colab.kernel.accessAllowed ? 'block' : 'none';\n",
              "\n",
              "        async function convertToInteractive(key) {\n",
              "          const element = document.querySelector('#df-16c392de-228b-457f-8ed2-40efbbf8bc3f');\n",
              "          const dataTable =\n",
              "            await google.colab.kernel.invokeFunction('convertToInteractive',\n",
              "                                                     [key], {});\n",
              "          if (!dataTable) return;\n",
              "\n",
              "          const docLinkHtml = 'Like what you see? Visit the ' +\n",
              "            '<a target=\"_blank\" href=https://colab.research.google.com/notebooks/data_table.ipynb>data table notebook</a>'\n",
              "            + ' to learn more about interactive tables.';\n",
              "          element.innerHTML = '';\n",
              "          dataTable['output_type'] = 'display_data';\n",
              "          await google.colab.output.renderOutput(dataTable, element);\n",
              "          const docLink = document.createElement('div');\n",
              "          docLink.innerHTML = docLinkHtml;\n",
              "          element.appendChild(docLink);\n",
              "        }\n",
              "      </script>\n",
              "    </div>\n",
              "  </div>\n",
              "  "
            ]
          },
          "metadata": {},
          "execution_count": 8
        }
      ]
    },
    {
      "cell_type": "code",
      "source": [
        "test.info()"
      ],
      "metadata": {
        "colab": {
          "base_uri": "https://localhost:8080/"
        },
        "id": "yrHIgE02eRvy",
        "outputId": "a3169f3b-34d6-41a3-a642-0ec3fe6f8066"
      },
      "execution_count": 9,
      "outputs": [
        {
          "output_type": "stream",
          "name": "stdout",
          "text": [
            "<class 'pandas.core.frame.DataFrame'>\n",
            "RangeIndex: 30 entries, 0 to 29\n",
            "Data columns (total 12 columns):\n",
            " #   Column              Non-Null Count  Dtype  \n",
            "---  ------              --------------  -----  \n",
            " 0   Log Date / Time     30 non-null     object \n",
            " 1   NBCC FEEDER PILLER  30 non-null     float64\n",
            " 2   LIBRARY BLDG        30 non-null     float64\n",
            " 3   GIRLS HOSTEL        30 non-null     float64\n",
            " 4   MAIN BLDG           30 non-null     float64\n",
            " 5   CIVIL BLDG          30 non-null     float64\n",
            " 6   FEEDER PILLER 4     30 non-null     float64\n",
            " 7   FEEDER PILLER 2     30 non-null     float64\n",
            " 8   SAC BLDG            30 non-null     float64\n",
            " 9   FEEDER PILLER 5     30 non-null     float64\n",
            " 10  MAIN POWER          30 non-null     float64\n",
            " 11  TOTAL               30 non-null     float64\n",
            "dtypes: float64(11), object(1)\n",
            "memory usage: 2.9+ KB\n"
          ]
        }
      ]
    },
    {
      "cell_type": "code",
      "source": [
        "test.plot()"
      ],
      "metadata": {
        "colab": {
          "base_uri": "https://localhost:8080/",
          "height": 282
        },
        "id": "S484ivc0eUEq",
        "outputId": "861a63af-9fa6-4ba0-dd38-01a92a51654f"
      },
      "execution_count": 10,
      "outputs": [
        {
          "output_type": "execute_result",
          "data": {
            "text/plain": [
              "<matplotlib.axes._subplots.AxesSubplot at 0x7f4470db87c0>"
            ]
          },
          "metadata": {},
          "execution_count": 10
        },
        {
          "output_type": "display_data",
          "data": {
            "text/plain": [
              "<Figure size 432x288 with 1 Axes>"
            ],
            "image/png": "[encoded data removed]"
          },
          "metadata": {
            "needs_background": "light"
          }
        }
      ]
    },
    {
      "cell_type": "markdown",
      "source": [
        "# Fitting SARIMA model to the training data"
      ],
      "metadata": {
        "id": "q2DXAovTeZ0K"
      }
    },
    {
      "cell_type": "code",
      "source": [
        "model_sarima = SARIMAX(train[\"TOTAL\"], order=(2,1,2), seasonal_order=(1,1,1,12))\n",
        "model_sarima = model_sarima.fit()"
      ],
      "metadata": {
        "colab": {
          "base_uri": "https://localhost:8080/"
        },
        "id": "41BpjjB4eWZF",
        "outputId": "649a464d-b75d-4fea-c83a-7578e2bceafd"
      },
      "execution_count": 11,
      "outputs": [
        {
          "output_type": "stream",
          "name": "stderr",
          "text": [
            "/usr/local/lib/python3.8/dist-packages/statsmodels/tsa/statespace/sarimax.py:978: UserWarning: Non-invertible starting MA parameters found. Using zeros as starting parameters.\n",
            "  warn('Non-invertible starting MA parameters found.'\n",
            "/usr/local/lib/python3.8/dist-packages/statsmodels/base/model.py:566: ConvergenceWarning: Maximum Likelihood optimization failed to converge. Check mle_retvals\n",
            "  warnings.warn(\"Maximum Likelihood optimization failed to \"\n"
          ]
        }
      ]
    },
    {
      "cell_type": "markdown",
      "source": [
        "#Forecasting energy load using the SARIMA model"
      ],
      "metadata": {
        "id": "TzK8qYO3ee2o"
      }
    },
    {
      "cell_type": "code",
      "source": [
        "predictions_sarima = model_sarima.predict(start=len(train), end=len(train)+len(test)-1, typ=\"levels\")"
      ],
      "metadata": {
        "id": "HuLl5vSgecQq"
      },
      "execution_count": 12,
      "outputs": []
    },
    {
      "cell_type": "code",
      "source": [
        "predictions_sarima"
      ],
      "metadata": {
        "colab": {
          "base_uri": "https://localhost:8080/"
        },
        "id": "2Ity5q9zeia5",
        "outputId": "ee058430-d2ed-4f14-ff1c-4bbc4704e2af"
      },
      "execution_count": 13,
      "outputs": [
        {
          "output_type": "execute_result",
          "data": {
            "text/plain": [
              "245    1691.000271\n",
              "246    1969.987790\n",
              "247    1980.766723\n",
              "248    1947.684116\n",
              "249    2113.660716\n",
              "250    2179.044209\n",
              "251    2041.456829\n",
              "252    2118.763042\n",
              "253    2041.491504\n",
              "254    2107.591431\n",
              "255    2081.305885\n",
              "256    2146.369492\n",
              "257    2125.642693\n",
              "258    2115.451455\n",
              "259    2068.706108\n",
              "260    2008.934023\n",
              "261    2066.567341\n",
              "262    2108.481518\n",
              "263    2031.319954\n",
              "264    2088.165418\n",
              "265    2016.986520\n",
              "266    2066.949355\n",
              "267    2025.183350\n",
              "268    2076.792437\n",
              "269    2103.900232\n",
              "270    2129.478251\n",
              "271    2089.848174\n",
              "272    2033.377372\n",
              "273    2104.412082\n",
              "274    2149.229266\n",
              "Name: predicted_mean, dtype: float64"
            ]
          },
          "metadata": {},
          "execution_count": 13
        }
      ]
    },
    {
      "cell_type": "markdown",
      "source": [
        "#Plotting the original and forecasted data"
      ],
      "metadata": {
        "id": "5N3xaqoqeoHT"
      }
    },
    {
      "cell_type": "code",
      "source": [
        "predictions_sarima.plot()"
      ],
      "metadata": {
        "colab": {
          "base_uri": "https://localhost:8080/",
          "height": 285
        },
        "id": "stxHtnNZekPY",
        "outputId": "3091a178-6721-449c-a2ec-d70d8ba04157"
      },
      "execution_count": 14,
      "outputs": [
        {
          "output_type": "execute_result",
          "data": {
            "text/plain": [
              "<matplotlib.axes._subplots.AxesSubplot at 0x7f4470d8b340>"
            ]
          },
          "metadata": {},
          "execution_count": 14
        },
        {
          "output_type": "display_data",
          "data": {
            "text/plain": [
              "<Figure size 432x288 with 1 Axes>"
            ],
            "image/png": "[encoded data removed]"
          },
          "metadata": {
            "needs_background": "light"
          }
        }
      ]
    },
    {
      "cell_type": "code",
      "source": [
        "test['TOTAL'].plot()"
      ],
      "metadata": {
        "colab": {
          "base_uri": "https://localhost:8080/",
          "height": 283
        },
        "id": "QOGmIeALerL5",
        "outputId": "9789db6c-163f-45b2-c2db-f4f4c9ef7a31"
      },
      "execution_count": 15,
      "outputs": [
        {
          "output_type": "execute_result",
          "data": {
            "text/plain": [
              "<matplotlib.axes._subplots.AxesSubplot at 0x7f446cf413d0>"
            ]
          },
          "metadata": {},
          "execution_count": 15
        },
        {
          "output_type": "display_data",
          "data": {
            "text/plain": [
              "<Figure size 432x288 with 1 Axes>"
            ],
            "image/png": "[encoded data removed]"
          },
          "metadata": {
            "needs_background": "light"
          }
        }
      ]
    },
    {
      "cell_type": "code",
      "source": [
        "predictions_sarima.plot()\n",
        "train['TOTAL'].plot()\n",
        "plt.show()"
      ],
      "metadata": {
        "colab": {
          "base_uri": "https://localhost:8080/",
          "height": 265
        },
        "id": "lALby7sletcf",
        "outputId": "fe83bc14-59d5-490a-ff45-de733d0099f2"
      },
      "execution_count": 16,
      "outputs": [
        {
          "output_type": "display_data",
          "data": {
            "text/plain": [
              "<Figure size 432x288 with 1 Axes>"
            ],
            "image/png": "[encoded data removed]"
          },
          "metadata": {
            "needs_background": "light"
          }
        }
      ]
    },
    {
      "cell_type": "markdown",
      "source": [
        "#Calculating the Root Mean Square Error"
      ],
      "metadata": {
        "id": "62mb1dJEezmL"
      }
    },
    {
      "cell_type": "code",
      "source": [
        "mse_sarima = mean_squared_error(test[\"TOTAL\"], predictions_sarima)\n",
        "rmse_sarima = np.sqrt(mse_sarima)"
      ],
      "metadata": {
        "id": "lGAdGnx5ewr-"
      },
      "execution_count": 17,
      "outputs": []
    },
    {
      "cell_type": "code",
      "source": [
        "rmse_sarima"
      ],
      "metadata": {
        "colab": {
          "base_uri": "https://localhost:8080/"
        },
        "id": "yfiUR1VAe22-",
        "outputId": "d22b50fc-28ef-48db-be97-987b75f3c6c3"
      },
      "execution_count": 18,
      "outputs": [
        {
          "output_type": "execute_result",
          "data": {
            "text/plain": [
              "657.521199282405"
            ]
          },
          "metadata": {},
          "execution_count": 18
        }
      ]
    }
  ]
}